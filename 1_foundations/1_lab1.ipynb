{
 "cells": [
  {
   "cell_type": "markdown",
   "metadata": {},
   "source": [
    "# Welcome to the start of your adventure in Agentic AI"
   ]
  },
  {
   "cell_type": "markdown",
   "metadata": {},
   "source": [
    "<table style=\"margin: 0; text-align: left; width:100%\">\n",
    "    <tr>\n",
    "        <td style=\"width: 150px; height: 150px; vertical-align: middle;\">\n",
    "            <img src=\"../assets/stop.png\" width=\"150\" height=\"150\" style=\"display: block;\" />\n",
    "        </td>\n",
    "        <td>\n",
    "            <h2 style=\"color:#ff7800;\">Are you ready for action??</h2>\n",
    "            <span style=\"color:#ff7800;\">Have you completed all the setup steps in the <a href=\"../setup/\">setup</a> folder?<br/>\n",
    "            Have you read the <a href=\"../README.md\">README</a>? Many common questions are answered here!<br/>\n",
    "            Have you checked out the guides in the <a href=\"../guides/01_intro.ipynb\">guides</a> folder?<br/>\n",
    "            Well in that case, you're ready!!\n",
    "            </span>\n",
    "        </td>\n",
    "    </tr>\n",
    "</table>"
   ]
  },
  {
   "cell_type": "markdown",
   "metadata": {},
   "source": [
    "<table style=\"margin: 0; text-align: left; width:100%\">\n",
    "    <tr>\n",
    "        <td style=\"width: 150px; height: 150px; vertical-align: middle;\">\n",
    "            <img src=\"../assets/tools.png\" width=\"150\" height=\"150\" style=\"display: block;\" />\n",
    "        </td>\n",
    "        <td>\n",
    "            <h2 style=\"color:#00bfff;\">This code is a live resource - keep an eye out for my updates</h2>\n",
    "            <span style=\"color:#00bfff;\">I push updates regularly. As people ask questions or have problems, I add more examples and improve explanations. As a result, the code below might not be identical to the videos, as I've added more steps and better comments. Consider this like an interactive book that accompanies the lectures.<br/><br/>\n",
    "            I try to send emails regularly with important updates related to the course. You can find this in the 'Announcements' section of Udemy in the left sidebar. You can also choose to receive my emails via your Notification Settings in Udemy. I'm respectful of your inbox and always try to add value with my emails!\n",
    "            </span>\n",
    "        </td>\n",
    "    </tr>\n",
    "</table>"
   ]
  },
  {
   "cell_type": "markdown",
   "metadata": {},
   "source": [
    "### And please do remember to contact me if I can help\n",
    "\n",
    "And I love to connect: https://www.linkedin.com/in/eddonner/\n",
    "\n",
    "\n",
    "### New to Notebooks like this one? Head over to the guides folder!\n",
    "\n",
    "Just to check you've already added the Python and Jupyter extensions to Cursor, if not already installed:\n",
    "- Open extensions (View >> extensions)\n",
    "- Search for python, and when the results show, click on the ms-python one, and Install it if not already installed\n",
    "- Search for jupyter, and when the results show, click on the Microsoft one, and Install it if not already installed  \n",
    "Then View >> Explorer to bring back the File Explorer.\n",
    "\n",
    "And then:\n",
    "1. Click where it says \"Select Kernel\" near the top right, and select the option called `.venv (Python 3.12.9)` or similar, which should be the first choice or the most prominent choice. You may need to choose \"Python Environments\" first.\n",
    "2. Click in each \"cell\" below, starting with the cell immediately below this text, and press Shift+Enter to run\n",
    "3. Enjoy!\n",
    "\n",
    "After you click \"Select Kernel\", if there is no option like `.venv (Python 3.12.9)` then please do the following:  \n",
    "1. On Mac: From the Cursor menu, choose Settings >> VS Code Settings (NOTE: be sure to select `VSCode Settings` not `Cursor Settings`);  \n",
    "On Windows PC: From the File menu, choose Preferences >> VS Code Settings(NOTE: be sure to select `VSCode Settings` not `Cursor Settings`)  \n",
    "2. In the Settings search bar, type \"venv\"  \n",
    "3. In the field \"Path to folder with a list of Virtual Environments\" put the path to the project root, like C:\\Users\\username\\projects\\agents (on a Windows PC) or /Users/username/projects/agents (on Mac or Linux).  \n",
    "And then try again.\n",
    "\n",
    "Having problems with missing Python versions in that list? Have you ever used Anaconda before? It might be interferring. Quit Cursor, bring up a new command line, and make sure that your Anaconda environment is deactivated:    \n",
    "`conda deactivate`  \n",
    "And if you still have any problems with conda and python versions, it's possible that you will need to run this too:  \n",
    "`conda config --set auto_activate_base false`  \n",
    "and then from within the Agents directory, you should be able to run `uv python list` and see the Python 3.12 version."
   ]
  },
  {
   "cell_type": "code",
   "execution_count": 2,
   "metadata": {},
   "outputs": [],
   "source": [
    "# First let's do an import. If you get an Import Error, double check that your Kernel is correct..\n",
    "\n",
    "from dotenv import load_dotenv\n"
   ]
  },
  {
   "cell_type": "code",
   "execution_count": 3,
   "metadata": {},
   "outputs": [
    {
     "data": {
      "text/plain": [
       "True"
      ]
     },
     "execution_count": 3,
     "metadata": {},
     "output_type": "execute_result"
    }
   ],
   "source": [
    "# Next it's time to load the API keys into environment variables\n",
    "# If this returns false, see the next cell!\n",
    "\n",
    "load_dotenv(override=True)"
   ]
  },
  {
   "cell_type": "code",
   "execution_count": 6,
   "metadata": {},
   "source": [
    "# Check the keys\n",
    "\n",
    "import os\n",
    "gemini_api_key = os.getenv('gemini_api_key')\n",
    "    \n",
    "assert gemini_api_key "
   ]
  },
  {
   "cell_type": "code",
   "execution_count": 4,
   "metadata": {},
   "outputs": [],
   "source": [
    "# And now - the all important import statement\n",
    "# If you get an import error - head over to troubleshooting guide\n",
    "\n",
    "from google import genai\n",
    "from google.genai import types"
   ]
  },
  {
   "cell_type": "code",
   "execution_count": 7,
   "metadata": {},
   "outputs": [],
   "source": [
    "# And now we'll create an instance of the OpenAI class\n",
    "# If you're not sure what it means to create an instance of a class - head over to the guides folder!\n",
    "# If you get a NameError - head over to the guides folder to learn about NameErrors\n",
    "\n",
    "client = genai.Client(api_key=gemini_api_key)"
   ]
  },
  {
   "cell_type": "code",
   "execution_count": 14,
   "metadata": {},
   "outputs": [
    {
     "name": "stdout",
     "output_type": "stream",
     "text": [
      "2 + 2 = 4\n"
     ]
    }
   ],
   "source": [
    "# And now call it! Any problems, head to the troubleshooting guide\n",
    "# This uses GPT 4.1 nano, the incredibly cheap model\n",
    "# The APIs guide (guide 9) has exact instructions for using even cheaper or free alternatives to OpenAI\n",
    "# If you get a NameError, head to the guides folder (guide 6) to learn about NameErrors - always instantly fixable\n",
    "\n",
    "response = client.models.generate_content(\n",
    "    model=\"gemini-2.5-flash-preview-05-20\",\n",
    "    config=types.GenerateContentConfig(\n",
    "        system_instruction=\"You are a helpful assistant.\"\n",
    "    ),\n",
    "    contents=\"What is 2+2?\"\n",
    ")\n",
    "\n",
    "print(response.text)\n"
   ]
  },
  {
   "cell_type": "code",
   "execution_count": 15,
   "metadata": {},
   "outputs": [],
   "source": [
    "# And now - let's ask for a question:\n",
    "\n",
    "question = \"Please propose a hard, challenging question to assess someone's IQ. Respond only with the question.\"\n"
   ]
  },
  {
   "cell_type": "code",
   "execution_count": 16,
   "metadata": {},
   "outputs": [
    {
     "name": "stdout",
     "output_type": "stream",
     "text": [
      "What is the next term in the following sequence:\n",
      "\n",
      "ONE, TWO, FIVE, TWELVE, TWENTY-NINE, ...\n"
     ]
    }
   ],
   "source": [
    "# ask it - this uses GPT 4.1 mini, still cheap but more powerful than nano\n",
    "\n",
    "response = client.models.generate_content(\n",
    "    model=\"gemini-2.5-flash-preview-05-20\",\n",
    "    config=types.GenerateContentConfig(\n",
    "        system_instruction=\"You are a helpful assistant.\"\n",
    "    ),\n",
    "    contents=question\n",
    ")\n",
    "\n",
    "print(response.text)\n"
   ]
  },
  {
   "cell_type": "code",
   "execution_count": 17,
   "metadata": {},
   "outputs": [
    {
     "name": "stdout",
     "output_type": "stream",
     "text": [
      "Let's first convert the words to their numerical values:\n",
      "\n",
      "*   ONE = 1\n",
      "*   TWO = 2\n",
      "*   FIVE = 5\n",
      "*   TWELVE = 12\n",
      "*   TWENTY-NINE = 29\n",
      "\n",
      "So the sequence is: 1, 2, 5, 12, 29, ...\n",
      "\n",
      "Let's look for a pattern:\n",
      "\n",
      "*   From 1 to 2: (Perhaps x2, +0)\n",
      "*   From 2 to 5: (Perhaps x2, +1)\n",
      "*   From 5 to 12: (Perhaps x2, +2)\n",
      "*   From 12 to 29: (Perhaps x2, +5)\n",
      "\n",
      "This looks like a recursive pattern where each term is based on the previous two. Let's test the rule: **`a_n = 2 * a_{n-1} + a_{n-2}`**\n",
      "\n",
      "*   For the 3rd term (5): `2 * TWO + ONE = 2 * 2 + 1 = 4 + 1 = 5` (Correct!)\n",
      "*   For the 4th term (12): `2 * FIVE + TWO = 2 * 5 + 2 = 10 + 2 = 12` (Correct!)\n",
      "*   For the 5th term (29): `2 * TWELVE + FIVE = 2 * 12 + 5 = 24 + 5 = 29` (Correct!)\n",
      "\n",
      "The pattern holds. Now, let's find the next term:\n",
      "\n",
      "*   The next term will be based on TWENTY-NINE and TWELVE.\n",
      "*   `2 * TWENTY-NINE + TWELVE = 2 * 29 + 12`\n",
      "*   `58 + 12 = 70`\n",
      "\n",
      "The next term in the sequence is **SEVENTY**.\n"
     ]
    }
   ],
   "source": [
    "# Ask it again\n",
    "\n",
    "response = client.models.generate_content(\n",
    "    model=\"gemini-2.5-flash-preview-05-20\",\n",
    "    config=types.GenerateContentConfig(\n",
    "        system_instruction=\"You are a helpful assistant.\"\n",
    "    ),\n",
    "    contents=response.text\n",
    ")\n",
    "\n",
    "print(response.text)\n",
    "\n"
   ]
  },
  {
   "cell_type": "code",
   "execution_count": 16,
   "metadata": {},
   "outputs": [],
   "source": [
    "from IPython.display import Markdown, display\n",
    "\n",
    "# display(Markdown(response.text))\n",
    "\n"
   ]
  },
  {
   "cell_type": "markdown",
   "metadata": {},
   "source": [
    "# Congratulations!\n",
    "\n",
    "That was a small, simple step in the direction of Agentic AI, with your new environment!\n",
    "\n",
    "Next time things get more interesting..."
   ]
  },
  {
   "cell_type": "markdown",
   "metadata": {},
   "source": [
    "<table style=\"margin: 0; text-align: left; width:100%\">\n",
    "    <tr>\n",
    "        <td style=\"width: 150px; height: 150px; vertical-align: middle;\">\n",
    "            <img src=\"../assets/exercise.png\" width=\"150\" height=\"150\" style=\"display: block;\" />\n",
    "        </td>\n",
    "        <td>\n",
    "            <h2 style=\"color:#ff7800;\">Exercise</h2>\n",
    "            <span style=\"color:#ff7800;\">Now try this commercial application:<br/>\n",
    "            First ask the LLM to pick a business area that might be worth exploring for an Agentic AI opportunity.<br/>\n",
    "            Then ask the LLM to present a pain-point in that industry - something challenging that might be ripe for an Agentic solution.<br/>\n",
    "            Finally have 3 third LLM call propose the Agentic AI solution. <br/>\n",
    "            We will cover this at up-coming labs, so don't worry if you're unsure.. just give it a try!\n",
    "            </span>\n",
    "        </td>\n",
    "    </tr>\n",
    "</table>"
   ]
  },
  {
   "cell_type": "code",
   "execution_count": 12,
   "metadata": {},
   "outputs": [
    {
     "name": "stdout",
     "output_type": "stream",
     "text": [
      "Okay, let's pick a business area that is ripe for disruption and significant value creation through Agentic AI.\n",
      "\n",
      "The area I'd recommend exploring is **Dynamic Supply Chain Orchestration & Resilience.**\n",
      "\n",
      "Here's why it's a prime opportunity for Agentic AI:\n",
      "\n",
      "**1. The Problem Space is Inherently Agentic:**\n",
      "\n",
      "*   **Complexity & Interdependency:** Modern supply chains are incredibly complex webs of suppliers, manufacturers, transporters, warehouses, and customers. Millions of variables are in play at any given moment.\n",
      "*   **Dynamic & Unpredictable:** Geopolitical events, natural disasters, sudden demand shifts, labor shortages, and unexpected equipment failures constantly disrupt the \"plan.\" Static, rule-based systems struggle to adapt.\n",
      "*   **Optimization Challenges:** Optimizing for cost, speed, efficiency, sustainability, and resilience simultaneously is a multi-dimensional, constantly shifting puzzle.\n",
      "*   **Information Overload:** There's a vast amount of real-time data from IoT sensors, market feeds, weather reports, news, and enterprise systems, but synthesizing it into actionable insights is incredibly difficult for humans.\n",
      "\n",
      "**2. How Agentic AI Fits Perfectly:**\n",
      "\n",
      "Agentic AI systems are designed to operate autonomously, pursue goals, make decisions, plan, execute, and adapt in dynamic environments. This is precisely what's needed in supply chain management.\n",
      "\n",
      "Imagine a network of specialized, interconnected Agentic AIs:\n",
      "\n",
      "*   **Procurement Agents:** Continuously monitor supplier health, raw material prices, geopolitical risks, and even weather patterns in sourcing regions. If a disruption is detected, they can proactively identify alternative suppliers, negotiate new terms, or suggest pre-emptive stocking.\n",
      "*   **Logistics & Transportation Agents:** Real-time optimization of routes, modes of transport, and carrier selection based on live traffic, weather, fuel prices, and delivery deadlines. If a shipment is delayed, they automatically re-route, inform downstream agents (e.g., warehouse, customer service), and adjust receiving schedules.\n",
      "*   **Inventory Optimization Agents:** Dynamically adjust stock levels across multiple warehouses based on predictive demand, real-time sales data, production schedules, and known supply chain lead times. They can trigger replenishment orders or even suggest temporary price changes to manage excess.\n",
      "*   **Manufacturing Production Agents:** Coordinate with inventory and sales agents to optimize production schedules, manage bottlenecks, and rapidly re-prioritize orders based on critical customer needs or material availability.\n",
      "*   **Demand Forecasting Agents:** Leverage vast datasets (social media trends, news, economic indicators, historical sales, weather) to provide hyper-accurate and real-time demand predictions, even for volatile products.\n",
      "*   **Resilience & Risk Mitigation Agents:** Constantly scan for emerging risks across the globe, assess their potential impact on the specific supply chain, and automatically generate contingency plans, stress-test them, and recommend or even execute pre-emptive actions (e.g., diversifying suppliers, pre-positioning critical components).\n",
      "\n",
      "**3. The Opportunity & ROI:**\n",
      "\n",
      "*   **Massive Cost Savings:** Reduced waste, optimized transportation, lower inventory holding costs, minimized downtime.\n",
      "*   **Enhanced Resilience:** The ability to automatically detect, analyze, and adapt to disruptions will be a monumental competitive advantage, protecting revenue and brand reputation.\n",
      "*   **Improved Customer Satisfaction:** More reliable delivery times, proactive communication about delays, and faster fulfillment.\n",
      "*   **Sustainable Practices:** Optimized routes and resource allocation can significantly reduce carbon footprint.\n",
      "*   **Strategic Advantage:** Companies with truly agentic, self-optimizing supply chains will be able to outmaneuver competitors in volatile markets.\n",
      "\n",
      "**4. Why Now for Agentic AI?**\n",
      "\n",
      "*   **Advanced LLMs:** Provide the reasoning, planning, and communication layers for agents.\n",
      "*   **Computational Power:** Ability to run complex simulations and real-time analysis.\n",
      "*   **Data Availability:** Proliferation of IoT sensors, ERP data, market feeds.\n",
      "*   **Need for Agility:** The last few years have highlighted the dire need for more adaptable supply chains.\n",
      "\n",
      "**Potential Business Model:**\n",
      "\n",
      "A company could build a platform that provides these interconnected Agentic AI services as a subscription, tailored to different industries (e.g., automotive, retail, healthcare, food & beverage). The value proposition would be \"Autonomous, Resilient Supply Chain as a Service.\"\n",
      "\n",
      "This isn't just about automation; it's about creating an intelligent, self-healing, and continuously optimizing organism out of a company's entire supply network.\n"
     ]
    }
   ],
   "source": [
    "question = \"can you pick a business area that might be worth exploring for an Agentic AI opportunity?\"\n",
    "\n",
    "# model_response = client.models.generate_content(\n",
    "#     model=\"gemini-2.5-flash-preview-05-20\",\n",
    "#     config=types.GenerateContentConfig(\n",
    "#         system_instruction=\"You are a helpful assistant.\"\n",
    "#     ),\n",
    "#     contents=question\n",
    "# )\n",
    "# print(model_response.text)\n",
    "\n",
    "next_question = \" What are the pain points in these industries?\"\n",
    "\n",
    "model_reponse = client.models.generate_content(\n",
    "    model=\"gemini-2.5-flash-preview-05-20\",\n",
    "    config=types.GenerateContentConfig(\n",
    "        system_instruction=\"You are a helpful assistant.\"\n",
    "    ),\n",
    "    contents=model_response.text + next_question\n",
    ")\n",
    "\n",
    "print(model_response.text)\n",
    "\n",
    "model_response = client.models.generate_content(\n",
    "    model=\"gemini-2.5-flash-preview-05-20\",\n",
    "    config=types.GenerateContentConfig(\n",
    "        system_instruction=\"You are a helpful assistant.\"\n",
    "    ),\n",
    "    contents=model_response.text + \" How would you design the solution?\"\n",
    ")\n",
    "\n",
    "    \n",
    "# And repeat!"
   ]
  },
  {
   "cell_type": "markdown",
   "metadata": {},
   "source": []
  },
  {
   "cell_type": "code",
   "execution_count": 17,
   "metadata": {},
   "outputs": [
    {
     "data": {
      "text/markdown": [
       "You've articulated a truly compelling and high-impact area for Agentic AI disruption. \"Dynamic Supply Chain Orchestration & Resilience\" is not just ripe; it's a critical, systemic challenge whose solution could redefine global commerce. Your breakdown of the problem space and the Agentic AI fit is spot-on.\n",
       "\n",
       "Now, let's dive into the specific pain points within the industries you mentioned, and how Agentic AI offers unique solutions.\n",
       "\n",
       "---\n",
       "\n",
       "### Pain Points in Specific Industries & Agentic AI's Targeted Solutions\n",
       "\n",
       "These industries, while diverse, share core supply chain challenges amplified by their unique operating environments.\n",
       "\n",
       "#### 1. Automotive Industry\n",
       "\n",
       "**Why it's challenging:** The automotive supply chain is a highly interconnected, global, multi-tier system characterized by Just-In-Time (JIT) manufacturing, long product lifecycles (but short model cycles), and immense capital expenditure on assembly lines. The recent chip shortage brought its fragility into stark relief.\n",
       "\n",
       "**Pain Points:**\n",
       "\n",
       "*   **Extreme Fragility of JIT:** A single missing component (e.g., a specific microchip, a rubber seal) can halt an entire assembly line, leading to millions in lost production daily.\n",
       "*   **Deep Tier Visibility Gaps:** OEMs often have limited visibility beyond their Tier 1 suppliers, making it impossible to proactively detect issues (e.g., a sub-tier supplier's factory fire, labor strike, or geopolitical event) until they've already impacted production.\n",
       "*   **Geopolitical & Regulatory Risk:** Tariffs, trade wars, new emissions standards, and regional conflicts can rapidly shift sourcing requirements, material costs, and market access.\n",
       "*   **Long & Inflexible Lead Times:** From raw material extraction to final vehicle assembly, the cumulative lead time can be months or even years for critical components, making rapid pivots challenging.\n",
       "*   **Supplier Risk Management:** Assessing financial health, operational stability, and ethical practices across a vast, global supplier base is a monumental manual task.\n",
       "*   **Complexity of Electric Vehicle (EV) Transition:** New materials (lithium, cobalt, rare earths), new manufacturing processes, and a developing charging infrastructure create entirely new supply chain dependencies and risks.\n",
       "*   **High Cost of Downtime:** Automotive manufacturing facilities are capital-intensive; every hour of non-production is extraordinarily expensive.\n",
       "\n",
       "**Agentic AI Fit:**\n",
       "*   **Proactive Disruption Mitigation:** \"Procurement Agents\" could monitor geopolitical risk, weather patterns impacting specific mines, and even social media sentiment around key labor groups, flagging potential issues months in advance and autonomously suggesting alternative material sources or pre-emptive buffer stock build-ups.\n",
       "*   **Dynamic JIT Re-orchestration:** If a critical part is delayed, \"Logistics Agents\" could instantly identify alternative transport modes (e.g., air freight vs. sea), reroute other components to maintain balance, and notify production agents to adjust assembly schedules on the fly, perhaps even suggesting a temporary shift to a different model variant using available parts.\n",
       "*   **Deep Tier Visibility & Risk Scoring:** Agents can ingest vast amounts of public and private data to map and continuously assess the risk profile of every supplier in every tier, identifying dependencies and weak links long before they become critical.\n",
       "*   **Optimized EV Material Flow:** Specialized agents can track the volatile prices and limited availability of battery materials, negotiating multi-year contracts or suggesting alternative battery chemistries based on real-time market conditions and predicted demand.\n",
       "\n",
       "#### 2. Retail Industry\n",
       "\n",
       "**Why it's challenging:** Retail operates on razor-thin margins, highly volatile demand, and the constant pressure of consumer expectations for speed, convenience, and personalization across complex omnichannel environments.\n",
       "\n",
       "**Pain Points:**\n",
       "\n",
       "*   **Volatile Demand Forecasting:** Fashion trends, social media virality, promotions, weather, and sudden economic shifts can cause unpredictable spikes or slumps in demand, leading to stockouts or costly overstock.\n",
       "*   **Omnichannel Inventory Synchronization:** Maintaining accurate, real-time inventory visibility across stores, distribution centers, dark stores, and e-commerce platforms is incredibly difficult, leading to missed sales or inefficient order fulfillment.\n",
       "*   **Last-Mile Delivery Costs & Complexity:** Optimizing routes, managing returns, and meeting increasingly tight delivery windows while controlling costs is a constant battle.\n",
       "*   **Reverse Logistics (Returns):** Processing, inspecting, restocking, or disposing of returned goods is a major cost center and operational headache.\n",
       "*   **Fast Fashion & Short Product Lifecycles:** Rapidly bringing new products to market, forecasting their short-lived demand, and clearing unsold inventory is a high-stakes game.\n",
       "*   **Supplier Compliance & Ethical Sourcing:** Ensuring suppliers meet labor standards, environmental regulations, and quality benchmarks across a global network.\n",
       "\n",
       "**Agentic AI Fit:**\n",
       "*   **Hyper-Accurate Demand Prediction:** \"Demand Forecasting Agents\" analyze news, social media trends, competitor promotions, weather, and micro-economic indicators in real-time, providing highly granular predictions that dynamically adjust inventory levels across the network.\n",
       "*   **Dynamic Inventory Balancing:** \"Inventory Optimization Agents\" continuously reallocate stock between stores and warehouses based on live sales, local demand predictions, and optimal fulfillment points (e.g., initiating store-to-store transfers or direct-from-vendor shipments).\n",
       "*   **Autonomous Last-Mile Optimization:** \"Logistics Agents\" constantly re-route delivery vehicles based on real-time traffic, delivery windows, and customer availability, even optimizing for drone or autonomous vehicle integration. They can also dynamically assign returns pickups based on vehicle capacity and route efficiency.\n",
       "*   **Automated Returns Processing & Re-merchandising:** Agents can assess returned items (via vision AI or customer input), instantly determine their optimal disposition (restock, liquidate, repair), and trigger appropriate actions, minimizing time in limbo and maximizing value recovery.\n",
       "\n",
       "#### 3. Healthcare & Pharmaceuticals\n",
       "\n",
       "**Why it's challenging:** This industry deals with life-critical products, extreme regulatory scrutiny, stringent storage requirements, and often unpredictable demand (e.g., pandemics, localized outbreaks). Errors can have catastrophic consequences.\n",
       "\n",
       "**Pain Points:**\n",
       "\n",
       "*   **Life-Critical Stockouts:** A shortage of a particular drug or medical device can directly impact patient outcomes and lead to severe reputational damage or regulatory fines.\n",
       "*   **Rigorous Regulatory Compliance & Traceability:** Strict requirements for temperature control (\"cold chain\"), serialization (tracking individual units), and documentation for every step of the supply chain (e.g., FDA, GMP, GDP).\n",
       "*   **Expiration Management:** High-value pharmaceuticals and medical supplies have strict expiry dates, leading to significant waste if not managed precisely.\n",
       "*   **Global Sourcing & Geopolitical Risks:** Reliance on specific regions for active pharmaceutical ingredients (APIs) or specialized components exposes the chain to geopolitical instability or localized disruptions.\n",
       "*   **Pandemic & Crisis Surge Demand:** Sudden, massive, and unpredictable spikes in demand for specific items (e.g., PPE, vaccines) expose a critical lack of surge capacity and agile response.\n",
       "*   **Complexity of Clinical Trial Supply Chains:** Managing specialized, often temperature-sensitive drugs for trials across global sites with varying regulations and patient recruitment schedules.\n",
       "\n",
       "**Agentic AI Fit:**\n",
       "*   **Proactive Stockout Prevention:** \"Inventory Optimization Agents\" analyze patient demographics, disease prevalence, local outbreak data, and historical usage patterns to predict demand for critical medicines and devices, automatically triggering prioritized replenishment orders.\n",
       "*   **Autonomous Cold Chain Integrity:** \"Logistics Agents\" monitor real-time temperature, humidity, and location for every sensitive shipment. If deviations occur, agents automatically alert, initiate corrective actions (e.g., re-route to climate-controlled facility, arrange immediate re-packing), and document the incident for compliance.\n",
       "*   **Dynamic Regulatory Compliance Audits:** \"Compliance Agents\" continuously scan for changes in global health regulations and automatically cross-reference them with actual supply chain movements and documentation, flagging non-compliance issues before manual audits.\n",
       "*   **Intelligent Expiry Date Management:** Agents can track expiry dates at a granular level, dynamically re-routing products with shorter shelf lives to high-demand areas, or initiating discounted sales/donations before products expire, minimizing waste.\n",
       "*   **Crisis Response Orchestration:** During a pandemic, \"Resilience & Risk Mitigation Agents\" can rapidly identify alternative manufacturing sites, assess global transportation capacity, and dynamically allocate scarce resources based on real-time public health data and government directives.\n",
       "\n",
       "#### 4. Food & Beverage Industry\n",
       "\n",
       "**Why it's challenging:** Marked by extreme perishability, seasonality, commodity price volatility, and stringent food safety requirements (\"farm-to-fork\" traceability).\n",
       "\n",
       "**Pain Points:**\n",
       "\n",
       "*   **Perishability & Waste:** Short shelf-lives lead to massive waste if demand forecasting, production, and logistics aren't perfectly synchronized.\n",
       "*   **Seasonality & Weather Dependence:** Reliance on agricultural cycles means raw material availability and quality are heavily influenced by weather, climate change, and growing conditions.\n",
       "*   **Food Safety & Traceability:** The need for rapid, accurate traceability from farm to fork for recall management and consumer safety is paramount. A single contamination event can destroy a brand.\n",
       "*   **Commodity Price Volatility:** Fluctuations in prices for core ingredients (e.g., grains, sugar, coffee beans) directly impact profitability.\n",
       "*   **Complex Cold Chain Management:** Maintaining precise temperatures for perishable goods from harvest/production through transport and storage is critical for safety and quality.\n",
       "*   **Fragmented Supply Base:** Often dealing with thousands of small farmers or local producers, making standardization and data collection challenging.\n",
       "*   **Sustainability Pressure:** Consumer and regulatory demands for reduced food waste, ethical sourcing, and lower carbon footprint.\n",
       "\n",
       "**Agentic AI Fit:**\n",
       "*   **Predictive Spoilage & Dynamic Rerouting:** \"Inventory Optimization Agents\" factor in harvest times, real-time weather, and predicted local demand to dynamically route produce, ensuring freshest products reach consumers while minimizing waste. They can flag batches at risk of spoilage and suggest immediate promotions or alternative uses.\n",
       "*   **Weather-Driven Crop Forecasting:** \"Procurement Agents\" ingest granular weather data, satellite imagery, and agricultural reports to provide highly accurate yield predictions, enabling proactive adjustments to purchasing and production plans for seasonal ingredients.\n",
       "*   **Automated Farm-to-Fork Traceability:** Agents can instantly trace any product batch back to its origin, identifying all touchpoints and ingredients, critical for rapid recall management and compliance.\n",
       "*   **Real-time Commodity Price Hedging:** Agents monitor global commodity markets, geopolitical news, and weather events, recommending optimal times for bulk purchases or hedging strategies to mitigate price volatility.\n",
       "*   **Optimized Cold Chain Maintenance:** \"Logistics Agents\" continuously monitor temperature and humidity, alerting to anomalies and automatically adjusting routes or storage conditions to maintain product integrity and food safety.\n",
       "\n",
       "---\n",
       "\n",
       "In all these sectors, the core value proposition of Agentic AI isn't just automation, but rather the creation of a **self-aware, self-optimizing, and self-healing supply chain organism.** This moves beyond traditional SCM software to a truly intelligent network that can not only react to but also *anticipate* and *proactively mitigate* the myriad challenges of modern global commerce. The ROI comes from vastly reduced risk, lower operational costs, improved customer trust, and a powerful competitive advantage in an increasingly volatile world."
      ],
      "text/plain": [
       "<IPython.core.display.Markdown object>"
      ]
     },
     "metadata": {},
     "output_type": "display_data"
    }
   ],
   "source": [
    "display(Markdown(model_reponse.text))"
   ]
  },
  {
   "cell_type": "code",
   "execution_count": null,
   "metadata": {},
   "outputs": [],
   "source": []
  }
 ],
 "metadata": {
  "kernelspec": {
   "display_name": ".venv",
   "language": "python",
   "name": "python3"
  },
  "language_info": {
   "codemirror_mode": {
    "name": "ipython",
    "version": 3
   },
   "file_extension": ".py",
   "mimetype": "text/x-python",
   "name": "python",
   "nbconvert_exporter": "python",
   "pygments_lexer": "ipython3",
   "version": "3.12.11"
  }
 },
 "nbformat": 4,
 "nbformat_minor": 2
}
