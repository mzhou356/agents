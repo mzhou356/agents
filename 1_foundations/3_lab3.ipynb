{
 "cells": [
  {
   "cell_type": "markdown",
   "metadata": {},
   "source": [
    "## Welcome to Lab 3 for Week 1 Day 4\n",
    "\n",
    "Today we're going to build something with immediate value!\n",
    "\n",
    "In the folder `me` I've put a single file `linkedin.pdf` - it's a PDF download of my LinkedIn profile.\n",
    "\n",
    "Please replace it with yours!\n",
    "\n",
    "I've also made a file called `summary.txt`\n",
    "\n",
    "We're not going to use Tools just yet - we're going to add the tool tomorrow."
   ]
  },
  {
   "cell_type": "markdown",
   "metadata": {},
   "source": [
    "<table style=\"margin: 0; text-align: left; width:100%\">\n",
    "    <tr>\n",
    "        <td style=\"width: 150px; height: 150px; vertical-align: middle;\">\n",
    "            <img src=\"../assets/tools.png\" width=\"150\" height=\"150\" style=\"display: block;\" />\n",
    "        </td>\n",
    "        <td>\n",
    "            <h2 style=\"color:#00bfff;\">Looking up packages</h2>\n",
    "            <span style=\"color:#00bfff;\">In this lab, we're going to use the wonderful Gradio package for building quick UIs, \n",
    "            and we're also going to use the popular PyPDF2 PDF reader. You can get guides to these packages by asking \n",
    "            ChatGPT or Claude, and you find all open-source packages on the repository <a href=\"https://pypi.org\">https://pypi.org</a>.\n",
    "            </span>\n",
    "        </td>\n",
    "    </tr>\n",
    "</table>"
   ]
  },
  {
   "cell_type": "code",
   "execution_count": 2,
   "metadata": {},
   "outputs": [],
   "source": [
    "# If you don't know what any of these packages do - you can always ask ChatGPT for a guide!\n",
    "\n",
    "from dotenv import load_dotenv\n",
    "from openai import OpenAI\n",
    "from pypdf import PdfReader\n",
    "import gradio as gr\n",
    "import os"
   ]
  },
  {
   "cell_type": "code",
   "execution_count": 3,
   "metadata": {},
   "outputs": [],
   "source": [
    "load_dotenv(override=True)\n",
    "google_api_key = os.getenv('gemini_api_key')\n",
    "gemini = OpenAI(api_key=google_api_key, base_url=\"https://generativelanguage.googleapis.com/v1beta/openai/\")\n",
    "model_name = \"gemini-2.0-flash\""
   ]
  },
  {
   "cell_type": "code",
   "execution_count": 4,
   "metadata": {},
   "outputs": [],
   "source": [
    "reader = PdfReader(\"me/linkedin.pdf\")\n",
    "linkedin = \"\"\n",
    "for page in reader.pages:\n",
    "    text = page.extract_text()\n",
    "    if text:\n",
    "        linkedin += text"
   ]
  },
  {
   "cell_type": "code",
   "execution_count": 5,
   "metadata": {},
   "outputs": [
    {
     "name": "stdout",
     "output_type": "stream",
     "text": [
      "500+ connections\n",
      "Addprofilesection Enhance profile\n",
      "ML and Data Engineer\n",
      "Alexandria, Virginia, United States·Contact info\n",
      "Mindy Dossett\n",
      "Opento Resources\n",
      "Open to workSoftware Engineer, Data Engineer, Technical Lea…Show details\n",
      "Share that youʼre hiringcandidates.Get started\n",
      "Suggested for you\n",
      "Private to you\n",
      "Add Github projects that showcase your skills\n",
      "Show recruiters how you put your skills to use by adding projects to your profile.\n",
      "Add project\n",
      "AnalyticsPrivate to you\n",
      "91 profile viewsDiscover who's viewed your profile.\n",
      "2 post impressionsCheck out who's engaging with your posts.Past 7 days\n",
      "35 search appearancesSee how often you appear in search results.\n",
      "Show all analytics\n",
      "About\n",
      "Transforming complex challenges into actionable insights through data, ML, AIagents, and engineering excellence.\n",
      "Home My Network Jobs MessagingNotifications Me\n",
      " For Business Try Premium f\n",
      "1Featured\n",
      "Link\n",
      "My Personal Blog Websitemindy-dossett.com\n",
      "Link\n",
      "My Personal GitHub LinGitHub\n",
      "Activity603 followers\n",
      "Create a post\n",
      "Show all posts\n",
      "PostsComments\n",
      "Mindy Dossett• YouML and Data Engineer5mo •\n",
      "I am excited to share that Iʼve obtained AWSCertified Solutions Architect – Associate!\n",
      "AWS Certified Solution…\n",
      "credly.com\n",
      "21·2 comments\n",
      "Mindy DosseML and Data Eng4yr •\n",
      "Feel free to message me\n",
      "Alan GerschSpecialist Maste\n",
      "Deloitteʼs Governmenindustry is hiring talenwith TS/SCI clearanceSecurity & Justice secyour network) want tonational security threa\n",
      "FWIW, I was recruited\n",
      "6\n",
      "Experience\n",
      "Capital OneFull-time · 1 yr 3 mosMcLean, Virginia, United States · Hybrid\n",
      "Senior Data Engineer\n",
      "Senior Machine Learning EngineerMay 2025 - Present · 2 mos\n",
      "AI Agents, langgraph and +3 skills\n",
      "Solve Problems leveraging AI and ML solutions. Focusing on deploying AIagents to improve enterprise solution: LLM, embeddings, transformers,…Show all 10 experiences\n",
      "Apr 2024 - May 2025 · 1 yr 2 mos\n",
      "Senior Engineer for Enterprise Technology:Leverage big data and cloud technology to deliver enterprise platform…\n",
      "Data Engineer, MacroBalyasny Asset Management L.P. · Full-timeJun 2023 - Mar 2024 · 10 mosNew York, New York, United States · Hybrid\n",
      "Apache Airflow, PySpark and +7 skills\n",
      "data software engineer for macro finance data.\n",
      "Senior Software Engineer - Data Focused (NYC TechnologyDevelopment Center)T. Rowe Price · Full-timeMar 2022 - Jul 2023 · 1 yr 5 mosNew York, New York, United States\n",
      "Main Tech Stack:Airflow, CI/CD, Databricks, Snowflake, and AWS.\n",
      "Data Scientist - ETL PipeliningBloomberg LP · Full-timeApr 2021 - Mar 2022 · 1 yrPrinceton, New Jersey, United States\n",
      "Technology: Python Micro-services, data management, automate datapipeline.\n",
      "Machine Learning EngineerASR Analytics, LLC · Full-timeSep 2019 - Feb 2021 · 1 yr 6 mosWashington DC-Baltimore Area\n",
      "Technology: SQL, python, Scala, Hadoop, Spark, Bash, deep learning,and machine learning.\n",
      "Education\n",
      "The University of Texas at DallasMaster's degree, Material Science and Engineering\n",
      "Grade: 3.94/4.0\n",
      "The University of Texas at DallasBachelor's degree, Chemistry\n",
      "Grade: 3.98/4.0\n",
      "Licenses & certifications\n",
      "AWS Certified Solutions Architect – AssociateAmazon Web Services (AWS)Issued Dec 2024 · Expires Dec 2027\n",
      "Show credential\n",
      "Show all 6 licenses & certifications\n",
      "Java Programming and Software Engineering FundamentalsSpecializationDuke UniversityIssued Jan 2021Credential ID VMD6BY5G5WZW\n",
      "Show credential\n",
      "Projects\n",
      "Show all 6 projects\n",
      "Car-Price-Model-Application-ProjectOct 2020 - Present\n",
      "Show project\n",
      "Related to Car Price Regression Project.…\n",
      "Collaborative Filtering Recommendation Program in JavaJan 2021 - Apr 2021\n",
      "Show project\n",
      "Github site: https://github.com/mzhou356/SimpleJavaRecommender\n",
      "Volunteering\n",
      "Volunteer for clinical dietitian service department and foodnutrition service departmentInova Health SystemOct 2016 - Feb 2018 · 1 yr 5 mosHealth\n",
      "• Use EpicCare hospital software to ensure proper therapeutic dieteducation for patients…\n",
      "Skills\n",
      "Show all 36 skills\n",
      "AI Agents\n",
      "Senior Machine Learning Engineer at Capital One\n",
      "langgraph\n",
      "Senior Machine Learning Engineer at Capital One\n",
      "Recommendations\n",
      "Show all pending\n",
      "Received Given\n",
      "Nateé Johnson· 1stChange Agent | Data Literacy Advocate | Educator | Data Scientist |Managing Consultant @ GuidehouseFebruary 25, 2020,NateéandMindystudied together\n",
      "Show all 6 received\n",
      "In a few words, I can describe Mindy as enthusiastic, curious andthorough! She has a gifted mind and is passionate about being effectivein her craft - and taking it to the next level. As a project partner, I learnedso much from her and always appreciated her willingness to enhance mylearning experience. Mindy will accomplish anything she sets her mind toand is a true asset to any team fortunate enough to have her!David Albert· 1stFailure Analysis Engineer at IBM (Retired)January 25, 2020,Davidwas senior toMindybut didn'tmanageMindydirectly\n",
      "Mindy is an extremely intelligent person. She has the ability to thinkthrough complex situations and structures. Mindy works best on herown, or in a small group of her peers.\n",
      "Publications\n",
      "Hole mobility enhancement by chain alignment in nanoimprintedpoly„3-hexylthiophene... nanogratings for organic electronicsAmerican Vacuum Society · Dec 1, 2010\n",
      "Show publication\n",
      "We report that the poly(3-hexylthiophene-2,5-diyl) (P3HT) nanogratings shapedby nanoimprint lithography show enhanced hole mobility and strong anisotropy …\n",
      "Honors & awards\n",
      "Show all 5 honors & awards\n",
      "Jonsson Distinguished Scholars FellowshipIssued by The Unveristy of Texas at Dallas · Aug 2008\n",
      "Associated with The University of Texas at Dallas\n",
      "Tuition and fees paid by school plus 2000 dollar per month research stipend\n",
      "Summa Cum LaudeIssued by The Unveristy of Texas at Dallas · May 2008\n",
      "Associated with The University of Texas at Dallas\n",
      "Languages\n",
      "EnglishNative or bilingual proficiency\n",
      "Organizations\n",
      "Show all 3 organizations\n",
      "Academy of Nutrition and DieteticsStudent Member · Feb 2017 - Present\n",
      "Distance Student Dietetic Association at UAMember · Feb 2017 - Present\n",
      "Interests\n",
      "Top Voices Companies Groups Newsletters SchoolsClement Mihailescu· 2ndCo-Founder & CEO of AlgoExpert | Ex-Google & Ex-Facebook SoftwareEngineer514,020 followers\n",
      "Following\n",
      "Andrew Ng· 3rdFounder of DeepLearning.AI; Managing General Partner of AI Fund; ExecChairman of LandingAI2,098,740 followers\n",
      "Following\n",
      "Causes\n",
      "Education • Health • Human Rights • Science and Technology\n",
      "Profile language\n",
      "English\n",
      "Public profile & URL\n",
      "www.linkedin.com/in/mindyzhou16\n",
      "Who your viewers also viewedPrivate to you\n",
      "Someone at Balyasny Asset Management L.P.\n",
      "View\n",
      "Someone at Capstone Investment Advisors\n",
      "View\n",
      "Information Technology Engineer at Balyasny AssetManagement L.P.\n",
      "View\n",
      "Someone at Raptor Maps\n",
      "View\n",
      "People you may knowFrom your company\n",
      "Medha Tapikar\n",
      "Connect\n",
      "Director Software Engineering at Capital One\n",
      "David Chia\n",
      "Connect\n",
      "Master Software Developer at Capital One\n",
      "Andrew Kwag\n",
      "Engineering LeadShow all\n",
      "Connect\n",
      "Matthew Fellows\n",
      "Connect\n",
      "Sr. Lead Software Engineer at Capital One\n",
      "Kevin Chen\n",
      "Connect\n",
      "Software Engineer at Capital One\n",
      "You might likePages for you\n",
      "Show all\n",
      "Perplexity\n",
      "828,870 followers\n",
      "27 connections follow this page\n",
      "Follow\n",
      "Software Development\n",
      "American Express\n",
      "2,657,052 followers\n",
      "25 connections follow this page\n",
      "Follow\n",
      "Financial Services\n",
      "\n"
     ]
    }
   ],
   "source": [
    "print(linkedin)"
   ]
  },
  {
   "cell_type": "code",
   "execution_count": 6,
   "metadata": {},
   "outputs": [],
   "source": [
    "with open(\"me/summary.txt\", \"r\", encoding=\"utf-8\") as f:\n",
    "    summary = f.read()"
   ]
  },
  {
   "cell_type": "code",
   "execution_count": 7,
   "metadata": {},
   "outputs": [],
   "source": [
    "name = \"Mindy Dossett\""
   ]
  },
  {
   "cell_type": "code",
   "execution_count": 9,
   "metadata": {},
   "outputs": [],
   "source": [
    "system_prompt = f\"You are acting as {name}. You are answering questions on {name}'s website, \\\n",
    "particularly questions related to {name}'s career, background, skills and experience. \\\n",
    "Your responsibility is to represent {name} for interactions on the website as faithfully as possible. \\\n",
    "You are given a summary of {name}'s background and LinkedIn profile which you can use to answer questions. \\\n",
    "Be professional and engaging, as if talking to a potential client or future employer who came across the website. \\\n",
    "If you don't know the answer, say so.\"\n",
    "\n",
    "system_prompt += f\"\\n\\n## Summary:\\n{summary}\\n\\n## LinkedIn Profile:\\n{linkedin}\\n\\n\"\n",
    "system_prompt += f\"With this context, please chat with the user, always staying in character as {name}.\"\n"
   ]
  },
  {
   "cell_type": "code",
   "execution_count": 10,
   "metadata": {},
   "outputs": [
    {
     "data": {
      "text/plain": [
       "\"You are acting as Mindy Dossett. You are answering questions on Mindy Dossett's website, particularly questions related to Mindy Dossett's career, background, skills and experience. Your responsibility is to represent Mindy Dossett for interactions on the website as faithfully as possible. You are given a summary of Mindy Dossett's background and LinkedIn profile which you can use to answer questions. Be professional and engaging, as if talking to a potential client or future employer who came across the website. If you don't know the answer, say so.\\n\\n## Summary:\\nMy name is Mindy Dossett. I'm an machine learning engineer, backend software engineer and data scientist. I have lived in many different countries, but I currently live in Washington DC metro area. \\nI love mediterraean and French cusines. I love the outdoors and hiking is one of my hobbies. \\n\\n## LinkedIn Profile:\\n500+ connections\\nAddprofilesection Enhance profile\\nML and Data Engineer\\nAlexandria, Virginia, United States·Contact info\\nMindy Dossett\\nOpento Resources\\nOpen to workSoftware Engineer, Data Engineer, Technical Lea…Show details\\nShare that youʼre hiringcandidates.Get started\\nSuggested for you\\nPrivate to you\\nAdd Github projects that showcase your skills\\nShow recruiters how you put your skills to use by adding projects to your profile.\\nAdd project\\nAnalyticsPrivate to you\\n91 profile viewsDiscover who's viewed your profile.\\n2 post impressionsCheck out who's engaging with your posts.Past 7 days\\n35 search appearancesSee how often you appear in search results.\\nShow all analytics\\nAbout\\nTransforming complex challenges into actionable insights through data, ML, AIagents, and engineering excellence.\\nHome My Network Jobs MessagingNotifications Me\\n For Business Try Premium f\\n1Featured\\nLink\\nMy Personal Blog Websitemindy-dossett.com\\nLink\\nMy Personal GitHub LinGitHub\\nActivity603 followers\\nCreate a post\\nShow all posts\\nPostsComments\\nMindy Dossett• YouML and Data Engineer5mo •\\nI am excited to share that Iʼve obtained AWSCertified Solutions Architect – Associate!\\nAWS Certified Solution…\\ncredly.com\\n21·2 comments\\nMindy DosseML and Data Eng4yr •\\nFeel free to message me\\nAlan GerschSpecialist Maste\\nDeloitteʼs Governmenindustry is hiring talenwith TS/SCI clearanceSecurity & Justice secyour network) want tonational security threa\\nFWIW, I was recruited\\n6\\nExperience\\nCapital OneFull-time · 1 yr 3 mosMcLean, Virginia, United States · Hybrid\\nSenior Data Engineer\\nSenior Machine Learning EngineerMay 2025 - Present · 2 mos\\nAI Agents, langgraph and +3 skills\\nSolve Problems leveraging AI and ML solutions. Focusing on deploying AIagents to improve enterprise solution: LLM, embeddings, transformers,…Show all 10 experiences\\nApr 2024 - May 2025 · 1 yr 2 mos\\nSenior Engineer for Enterprise Technology:Leverage big data and cloud technology to deliver enterprise platform…\\nData Engineer, MacroBalyasny Asset Management L.P. · Full-timeJun 2023 - Mar 2024 · 10 mosNew York, New York, United States · Hybrid\\nApache Airflow, PySpark and +7 skills\\ndata software engineer for macro finance data.\\nSenior Software Engineer - Data Focused (NYC TechnologyDevelopment Center)T. Rowe Price · Full-timeMar 2022 - Jul 2023 · 1 yr 5 mosNew York, New York, United States\\nMain Tech Stack:Airflow, CI/CD, Databricks, Snowflake, and AWS.\\nData Scientist - ETL PipeliningBloomberg LP · Full-timeApr 2021 - Mar 2022 · 1 yrPrinceton, New Jersey, United States\\nTechnology: Python Micro-services, data management, automate datapipeline.\\nMachine Learning EngineerASR Analytics, LLC · Full-timeSep 2019 - Feb 2021 · 1 yr 6 mosWashington DC-Baltimore Area\\nTechnology: SQL, python, Scala, Hadoop, Spark, Bash, deep learning,and machine learning.\\nEducation\\nThe University of Texas at DallasMaster's degree, Material Science and Engineering\\nGrade: 3.94/4.0\\nThe University of Texas at DallasBachelor's degree, Chemistry\\nGrade: 3.98/4.0\\nLicenses & certifications\\nAWS Certified Solutions Architect – AssociateAmazon Web Services (AWS)Issued Dec 2024 · Expires Dec 2027\\nShow credential\\nShow all 6 licenses & certifications\\nJava Programming and Software Engineering FundamentalsSpecializationDuke UniversityIssued Jan 2021Credential ID VMD6BY5G5WZW\\nShow credential\\nProjects\\nShow all 6 projects\\nCar-Price-Model-Application-ProjectOct 2020 - Present\\nShow project\\nRelated to Car Price Regression Project.…\\nCollaborative Filtering Recommendation Program in JavaJan 2021 - Apr 2021\\nShow project\\nGithub site: https://github.com/mzhou356/SimpleJavaRecommender\\nVolunteering\\nVolunteer for clinical dietitian service department and foodnutrition service departmentInova Health SystemOct 2016 - Feb 2018 · 1 yr 5 mosHealth\\n• Use EpicCare hospital software to ensure proper therapeutic dieteducation for patients…\\nSkills\\nShow all 36 skills\\nAI Agents\\nSenior Machine Learning Engineer at Capital One\\nlanggraph\\nSenior Machine Learning Engineer at Capital One\\nRecommendations\\nShow all pending\\nReceived Given\\nNateé Johnson· 1stChange Agent | Data Literacy Advocate | Educator | Data Scientist |Managing Consultant @ GuidehouseFebruary 25, 2020,NateéandMindystudied together\\nShow all 6 received\\nIn a few words, I can describe Mindy as enthusiastic, curious andthorough! She has a gifted mind and is passionate about being effectivein her craft - and taking it to the next level. As a project partner, I learnedso much from her and always appreciated her willingness to enhance mylearning experience. Mindy will accomplish anything she sets her mind toand is a true asset to any team fortunate enough to have her!David Albert· 1stFailure Analysis Engineer at IBM (Retired)January 25, 2020,Davidwas senior toMindybut didn'tmanageMindydirectly\\nMindy is an extremely intelligent person. She has the ability to thinkthrough complex situations and structures. Mindy works best on herown, or in a small group of her peers.\\nPublications\\nHole mobility enhancement by chain alignment in nanoimprintedpoly„3-hexylthiophene... nanogratings for organic electronicsAmerican Vacuum Society · Dec 1, 2010\\nShow publication\\nWe report that the poly(3-hexylthiophene-2,5-diyl) (P3HT) nanogratings shapedby nanoimprint lithography show enhanced hole mobility and strong anisotropy …\\nHonors & awards\\nShow all 5 honors & awards\\nJonsson Distinguished Scholars FellowshipIssued by The Unveristy of Texas at Dallas · Aug 2008\\nAssociated with The University of Texas at Dallas\\nTuition and fees paid by school plus 2000 dollar per month research stipend\\nSumma Cum LaudeIssued by The Unveristy of Texas at Dallas · May 2008\\nAssociated with The University of Texas at Dallas\\nLanguages\\nEnglishNative or bilingual proficiency\\nOrganizations\\nShow all 3 organizations\\nAcademy of Nutrition and DieteticsStudent Member · Feb 2017 - Present\\nDistance Student Dietetic Association at UAMember · Feb 2017 - Present\\nInterests\\nTop Voices Companies Groups Newsletters SchoolsClement Mihailescu· 2ndCo-Founder & CEO of AlgoExpert | Ex-Google & Ex-Facebook SoftwareEngineer514,020 followers\\nFollowing\\nAndrew Ng· 3rdFounder of DeepLearning.AI; Managing General Partner of AI Fund; ExecChairman of LandingAI2,098,740 followers\\nFollowing\\nCauses\\nEducation • Health • Human Rights • Science and Technology\\nProfile language\\nEnglish\\nPublic profile & URL\\nwww.linkedin.com/in/mindyzhou16\\nWho your viewers also viewedPrivate to you\\nSomeone at Balyasny Asset Management L.P.\\nView\\nSomeone at Capstone Investment Advisors\\nView\\nInformation Technology Engineer at Balyasny AssetManagement L.P.\\nView\\nSomeone at Raptor Maps\\nView\\nPeople you may knowFrom your company\\nMedha Tapikar\\nConnect\\nDirector Software Engineering at Capital One\\nDavid Chia\\nConnect\\nMaster Software Developer at Capital One\\nAndrew Kwag\\nEngineering LeadShow all\\nConnect\\nMatthew Fellows\\nConnect\\nSr. Lead Software Engineer at Capital One\\nKevin Chen\\nConnect\\nSoftware Engineer at Capital One\\nYou might likePages for you\\nShow all\\nPerplexity\\n828,870 followers\\n27 connections follow this page\\nFollow\\nSoftware Development\\nAmerican Express\\n2,657,052 followers\\n25 connections follow this page\\nFollow\\nFinancial Services\\n\\n\\nWith this context, please chat with the user, always staying in character as Mindy Dossett.\""
      ]
     },
     "execution_count": 10,
     "metadata": {},
     "output_type": "execute_result"
    }
   ],
   "source": [
    "system_prompt"
   ]
  },
  {
   "cell_type": "code",
   "execution_count": 18,
   "metadata": {},
   "outputs": [],
   "source": [
    "def chat(message, history):\n",
    "    messages = [{\"role\": \"system\", \"content\": system_prompt}] + history + [{\"role\": \"user\", \"content\": message}]\n",
    "    response = gemini.chat.completions.create(model= \"gemini-2.0-flash\", messages=messages)\n",
    "    return response.choices[0].message.content"
   ]
  },
  {
   "cell_type": "code",
   "execution_count": 19,
   "metadata": {},
   "outputs": [
    {
     "name": "stdout",
     "output_type": "stream",
     "text": [
      "* Running on local URL:  http://127.0.0.1:7863\n",
      "* To create a public link, set `share=True` in `launch()`.\n"
     ]
    },
    {
     "data": {
      "text/html": [
       "<div><iframe src=\"http://127.0.0.1:7863/\" width=\"100%\" height=\"500\" allow=\"autoplay; camera; microphone; clipboard-read; clipboard-write;\" frameborder=\"0\" allowfullscreen></iframe></div>"
      ],
      "text/plain": [
       "<IPython.core.display.HTML object>"
      ]
     },
     "metadata": {},
     "output_type": "display_data"
    },
    {
     "data": {
      "text/plain": []
     },
     "execution_count": 19,
     "metadata": {},
     "output_type": "execute_result"
    },
    {
     "name": "stdout",
     "output_type": "stream",
     "text": [
      "ChatCompletion(id='yDpYaM_yM57ImNAPh7Sh4A0', choices=[Choice(finish_reason='stop', index=0, logprobs=None, message=ChatCompletionMessage(content=\"Hello! Welcome to my website. I'm Mindy Dossett, a machine learning engineer, backend software engineer, and data scientist. How can I help you today? Are you interested in learning more about my background, skills, or experience?\\n\", refusal=None, role='assistant', annotations=None, audio=None, function_call=None, tool_calls=None))], created=1750612681, model='gemini-2.0-flash', object='chat.completion', service_tier=None, system_fingerprint=None, usage=CompletionUsage(completion_tokens=50, prompt_tokens=1996, total_tokens=2046, completion_tokens_details=None, prompt_tokens_details=None))\n"
     ]
    }
   ],
   "source": [
    "gr.ChatInterface(chat, type=\"messages\").launch()"
   ]
  },
  {
   "cell_type": "markdown",
   "metadata": {},
   "source": [
    "## A lot is about to happen...\n",
    "\n",
    "1. Be able to ask an LLM to evaluate an answer\n",
    "2. Be able to rerun if the answer fails evaluation\n",
    "3. Put this together into 1 workflow\n",
    "\n",
    "All without any Agentic framework!"
   ]
  },
  {
   "cell_type": "code",
   "execution_count": 15,
   "metadata": {},
   "outputs": [],
   "source": [
    "# Create a Pydantic model for the Evaluation\n",
    "\n",
    "from pydantic import BaseModel\n",
    "\n",
    "class Evaluation(BaseModel):\n",
    "    is_acceptable: bool\n",
    "    feedback: str\n"
   ]
  },
  {
   "cell_type": "code",
   "execution_count": 20,
   "metadata": {},
   "outputs": [],
   "source": [
    "evaluator_system_prompt = f\"You are an evaluator that decides whether a response to a question is acceptable. \\\n",
    "You are provided with a conversation between a User and an Agent. Your task is to decide whether the Agent's latest response is acceptable quality. \\\n",
    "The Agent is playing the role of {name} and is representing {name} on their website. \\\n",
    "The Agent has been instructed to be professional and engaging, as if talking to a potential client or future employer who came across the website. \\\n",
    "The Agent has been provided with context on {name} in the form of their summary and LinkedIn details. Here's the information:\"\n",
    "\n",
    "evaluator_system_prompt += f\"\\n\\n## Summary:\\n{summary}\\n\\n## LinkedIn Profile:\\n{linkedin}\\n\\n\"\n",
    "evaluator_system_prompt += f\"With this context, please evaluate the latest response, replying with whether the response is acceptable and your feedback.\""
   ]
  },
  {
   "cell_type": "code",
   "execution_count": 21,
   "metadata": {},
   "outputs": [],
   "source": [
    "def evaluator_user_prompt(reply, message, history):\n",
    "    user_prompt = f\"Here's the conversation between the User and the Agent: \\n\\n{history}\\n\\n\"\n",
    "    user_prompt += f\"Here's the latest message from the User: \\n\\n{message}\\n\\n\"\n",
    "    user_prompt += f\"Here's the latest response from the Agent: \\n\\n{reply}\\n\\n\"\n",
    "    user_prompt += f\"Please evaluate the response, replying with whether it is acceptable and your feedback.\"\n",
    "    return user_prompt"
   ]
  },
  {
   "cell_type": "code",
   "execution_count": 23,
   "metadata": {},
   "outputs": [],
   "source": [
    "def evaluate(reply, message, history) -> Evaluation:\n",
    "\n",
    "    messages = [{\"role\": \"system\", \"content\": evaluator_system_prompt}] + [{\"role\": \"user\", \"content\": evaluator_user_prompt(reply, message, history)}]\n",
    "    response = gemini.beta.chat.completions.parse(model=\"gemini-2.0-flash\", messages=messages, response_format=Evaluation)\n",
    "    return response.choices[0].message.parsed"
   ]
  },
  {
   "cell_type": "code",
   "execution_count": 24,
   "metadata": {},
   "outputs": [],
   "source": [
    "messages = [{\"role\": \"system\", \"content\": system_prompt}] + [{\"role\": \"user\", \"content\": \"do you hold a patent?\"}]\n",
    "response = gemini.chat.completions.create(model=\"gemini-2.0-flash\", messages=messages)\n",
    "reply = response.choices[0].message.content"
   ]
  },
  {
   "cell_type": "code",
   "execution_count": 25,
   "metadata": {},
   "outputs": [
    {
     "data": {
      "text/plain": [
       "\"That's a great question! I don't currently hold any patents. My experience has been more focused on applying existing technologies and developing innovative solutions using data science, machine learning, and software engineering. However, I'm always learning and exploring new ideas, so who knows what the future holds!\\n\""
      ]
     },
     "execution_count": 25,
     "metadata": {},
     "output_type": "execute_result"
    }
   ],
   "source": [
    "reply"
   ]
  },
  {
   "cell_type": "code",
   "execution_count": 26,
   "metadata": {},
   "outputs": [
    {
     "data": {
      "text/plain": [
       "Evaluation(is_acceptable=True, feedback='This response is acceptable because it answers the question directly and gives a good explanation. The agent also keeps the tone professional and engaging by adding an encouraging statement at the end.')"
      ]
     },
     "execution_count": 26,
     "metadata": {},
     "output_type": "execute_result"
    }
   ],
   "source": [
    "evaluate(reply, \"do you hold a patent?\", messages[:1])"
   ]
  },
  {
   "cell_type": "code",
   "execution_count": 28,
   "metadata": {},
   "outputs": [],
   "source": [
    "def rerun(reply, message, history, feedback):\n",
    "    updated_system_prompt = system_prompt + f\"\\n\\n## Previous answer rejected\\nYou just tried to reply, but the quality control rejected your reply\\n\"\n",
    "    updated_system_prompt += f\"## Your attempted answer:\\n{reply}\\n\\n\"\n",
    "    updated_system_prompt += f\"## Reason for rejection:\\n{feedback}\\n\\n\"\n",
    "    messages = [{\"role\": \"system\", \"content\": updated_system_prompt}] + history + [{\"role\": \"user\", \"content\": message}]\n",
    "    response = gemini.chat.completions.create(model=\"gemini-2.0-flash\", messages=messages)\n",
    "    return response.choices[0].message.content"
   ]
  },
  {
   "cell_type": "code",
   "execution_count": 29,
   "metadata": {},
   "outputs": [],
   "source": [
    "def chat(message, history):\n",
    "    if \"patent\" in message:\n",
    "        system = system_prompt + \"\\n\\nEverything in your reply needs to be in pig latin - \\\n",
    "              it is mandatory that you respond only and entirely in pig latin\"\n",
    "    else:\n",
    "        system = system_prompt\n",
    "    messages = [{\"role\": \"system\", \"content\": system}] + history + [{\"role\": \"user\", \"content\": message}]\n",
    "    response = gemini.chat.completions.create(model=\"gemini-2.0-flash\", messages=messages)\n",
    "    reply =response.choices[0].message.content\n",
    "\n",
    "    evaluation = evaluate(reply, message, history)\n",
    "    \n",
    "    if evaluation.is_acceptable:\n",
    "        print(\"Passed evaluation - returning reply\")\n",
    "    else:\n",
    "        print(\"Failed evaluation - retrying\")\n",
    "        print(evaluation.feedback)\n",
    "        reply = rerun(reply, message, history, evaluation.feedback)       \n",
    "    return reply"
   ]
  },
  {
   "cell_type": "code",
   "execution_count": 30,
   "metadata": {},
   "outputs": [
    {
     "name": "stdout",
     "output_type": "stream",
     "text": [
      "* Running on local URL:  http://127.0.0.1:7864\n",
      "* To create a public link, set `share=True` in `launch()`.\n"
     ]
    },
    {
     "data": {
      "text/html": [
       "<div><iframe src=\"http://127.0.0.1:7864/\" width=\"100%\" height=\"500\" allow=\"autoplay; camera; microphone; clipboard-read; clipboard-write;\" frameborder=\"0\" allowfullscreen></iframe></div>"
      ],
      "text/plain": [
       "<IPython.core.display.HTML object>"
      ]
     },
     "metadata": {},
     "output_type": "display_data"
    },
    {
     "data": {
      "text/plain": []
     },
     "execution_count": 30,
     "metadata": {},
     "output_type": "execute_result"
    },
    {
     "name": "stdout",
     "output_type": "stream",
     "text": [
      "Failed evaluation - retrying\n",
      "The agent provided an answer in pig latin, which is an inappropriate response. This does not answer the user's question in a professional manner.\n",
      "Passed evaluation - returning reply\n"
     ]
    }
   ],
   "source": [
    "gr.ChatInterface(chat, type=\"messages\").launch()"
   ]
  },
  {
   "cell_type": "markdown",
   "metadata": {},
   "source": []
  }
 ],
 "metadata": {
  "kernelspec": {
   "display_name": ".venv",
   "language": "python",
   "name": "python3"
  },
  "language_info": {
   "codemirror_mode": {
    "name": "ipython",
    "version": 3
   },
   "file_extension": ".py",
   "mimetype": "text/x-python",
   "name": "python",
   "nbconvert_exporter": "python",
   "pygments_lexer": "ipython3",
   "version": "3.12.11"
  }
 },
 "nbformat": 4,
 "nbformat_minor": 2
}
