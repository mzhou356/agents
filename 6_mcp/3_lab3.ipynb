{
 "cells": [
  {
   "cell_type": "markdown",
   "metadata": {},
   "source": [
    "### Welcome to Week 6 Day 3!\n",
    "\n",
    "Let's experiment with a bunch more MCP Servers"
   ]
  },
  {
   "cell_type": "code",
   "execution_count": 8,
   "metadata": {},
   "outputs": [
    {
     "data": {
      "text/plain": [
       "True"
      ]
     },
     "execution_count": 8,
     "metadata": {},
     "output_type": "execute_result"
    }
   ],
   "source": [
    "from dotenv import load_dotenv\n",
    "from openai import AsyncOpenAI\n",
    "from agents import Agent, Runner, trace,OpenAIChatCompletionsModel\n",
    "from agents.mcp import MCPServerStdio\n",
    "import os\n",
    "from IPython.display import Markdown, display\n",
    "from datetime import datetime\n",
    "load_dotenv(override=True)"
   ]
  },
  {
   "cell_type": "code",
   "execution_count": 9,
   "metadata": {},
   "outputs": [],
   "source": [
    "google_api_key = os.getenv('gemini_api_key')\n",
    "GEMINI_BASE_URL = \"https://generativelanguage.googleapis.com/v1beta/openai/\"\n",
    "gemini_client = AsyncOpenAI(base_url=GEMINI_BASE_URL, api_key=google_api_key)\n",
    "gemini_model = OpenAIChatCompletionsModel(model=\"gemini-2.0-flash\", openai_client=gemini_client)"
   ]
  },
  {
   "cell_type": "code",
   "execution_count": 10,
   "metadata": {},
   "outputs": [],
   "source": [
    "from agents import set_tracing_export_api_key\n",
    "set_tracing_export_api_key(os.environ[\"open_api_key\"])"
   ]
  },
  {
   "cell_type": "markdown",
   "metadata": {},
   "source": [
    "### The first type of MCP Server: runs locally, everything local\n",
    "\n",
    "Here's a really interesting one: a knowledge-graph based memory.\n",
    "\n",
    "It's a persistent memory store of entities, observations about them, and relationships between them.\n",
    "\n",
    "https://github.com/modelcontextprotocol/servers/tree/main/src/memory\n"
   ]
  },
  {
   "cell_type": "code",
   "execution_count": 11,
   "metadata": {},
   "outputs": [
    {
     "data": {
      "text/plain": [
       "[Tool(name='create_entities', description='Create new entities with observations and optional embeddings', inputSchema={'type': 'object', 'properties': {'entities': {'type': 'array', 'items': {'type': 'object', 'properties': {'name': {'type': 'string'}, 'entityType': {'type': 'string'}, 'observations': {'type': 'array', 'items': {'type': 'string'}}, 'embedding': {'type': 'array', 'items': {'type': 'number'}, 'description': 'Optional vector embedding for similarity search'}}, 'required': ['name', 'entityType', 'observations']}}}, 'required': ['entities']}, annotations=None),\n",
       " Tool(name='search_nodes', description='Search for entities and their relations using text or vector similarity', inputSchema={'type': 'object', 'properties': {'query': {'oneOf': [{'type': 'string', 'description': 'Text search query'}, {'type': 'array', 'items': {'type': 'number'}, 'description': 'Vector for similarity search'}]}}, 'required': ['query']}, annotations=None),\n",
       " Tool(name='read_graph', description='Get recent entities and their relations', inputSchema={'type': 'object', 'properties': {}, 'required': []}, annotations=None),\n",
       " Tool(name='create_relations', description='Create relations between entities', inputSchema={'type': 'object', 'properties': {'relations': {'type': 'array', 'items': {'type': 'object', 'properties': {'source': {'type': 'string'}, 'target': {'type': 'string'}, 'type': {'type': 'string'}}, 'required': ['source', 'target', 'type']}}}, 'required': ['relations']}, annotations=None),\n",
       " Tool(name='delete_entity', description='Delete an entity and all its associated data (observations and relations)', inputSchema={'type': 'object', 'properties': {'name': {'type': 'string', 'description': 'Name of the entity to delete'}}, 'required': ['name']}, annotations=None),\n",
       " Tool(name='delete_relation', description='Delete a specific relation between entities', inputSchema={'type': 'object', 'properties': {'source': {'type': 'string', 'description': 'Source entity name'}, 'target': {'type': 'string', 'description': 'Target entity name'}, 'type': {'type': 'string', 'description': 'Type of relation'}}, 'required': ['source', 'target', 'type']}, annotations=None)]"
      ]
     },
     "execution_count": 11,
     "metadata": {},
     "output_type": "execute_result"
    }
   ],
   "source": [
    "params = {\"command\": \"npx\",\"args\": [\"-y\", \"mcp-memory-libsql\"],\"env\": {\"LIBSQL_URL\": \"file:./memory/mindy.db\"}}\n",
    "\n",
    "async with MCPServerStdio(params=params, client_session_timeout_seconds=30) as server:\n",
    "    mcp_tools = await server.list_tools()\n",
    "\n",
    "mcp_tools"
   ]
  },
  {
   "cell_type": "code",
   "execution_count": 12,
   "metadata": {},
   "outputs": [],
   "source": [
    "instructions = \"You use your entity tools as a persistent memory to store and recall information about your conversations.\"\n",
    "request = \"My name's Mindy. I'm a data and ML engineer. I'm working heavily with AI agents, including the incredible MCP protocol. \\\n",
    "MCP is a protocol for connecting agents with tools, resources and prompt templates, and makes it easy to integrate AI agents with capabilities.\"\n",
    "model = gemini_model"
   ]
  },
  {
   "cell_type": "code",
   "execution_count": 13,
   "metadata": {},
   "outputs": [
    {
     "data": {
      "text/markdown": [
       "OK. I've stored some information about you and MCP. I'll remember that you are Mindy, a data and ML engineer working with AI agents and the MCP protocol, which helps connect agents with tools and resources.\n"
      ],
      "text/plain": [
       "<IPython.core.display.Markdown object>"
      ]
     },
     "metadata": {},
     "output_type": "display_data"
    }
   ],
   "source": [
    "async with MCPServerStdio(params=params, client_session_timeout_seconds=30) as mcp_server:\n",
    "    agent = Agent(name=\"agent\", instructions=instructions, model=model, mcp_servers=[mcp_server])\n",
    "    with trace(\"conversation\"):\n",
    "        result = await Runner.run(agent, request)\n",
    "    display(Markdown(result.final_output))"
   ]
  },
  {
   "cell_type": "code",
   "execution_count": 14,
   "metadata": {},
   "outputs": [
    {
     "data": {
      "text/markdown": [
       "I know that you are a data and ML engineer working heavily with AI agents. You're also working with the MCP protocol, which is a protocol for connecting agents with tools, resources, and prompt templates, and it makes it easy to integrate AI agents with capabilities.\n"
      ],
      "text/plain": [
       "<IPython.core.display.Markdown object>"
      ]
     },
     "metadata": {},
     "output_type": "display_data"
    }
   ],
   "source": [
    "async with MCPServerStdio(params=params, client_session_timeout_seconds=30) as mcp_server:\n",
    "    agent = Agent(name=\"agent\", instructions=instructions, model=model, mcp_servers=[mcp_server])\n",
    "    with trace(\"conversation\"):\n",
    "        result = await Runner.run(agent, \"My name's Mindy. What do you know about me?\")\n",
    "    display(Markdown(result.final_output))"
   ]
  },
  {
   "cell_type": "markdown",
   "metadata": {},
   "source": [
    "### Check the trace:\n",
    "\n",
    "https://platform.openai.com/traces"
   ]
  },
  {
   "cell_type": "markdown",
   "metadata": {},
   "source": [
    "### The 2nd type of MCP server - runs locally, calls a web service\n",
    "\n",
    "### TAVILY API SEARCH \n",
    "\n",
    "https://www.npmjs.com/package/tavily-mcp\n",
    "\n",
    "Set up your account, and put your key in the .env under `TAVILY_API_KEY`"
   ]
  },
  {
   "cell_type": "code",
   "execution_count": 15,
   "metadata": {},
   "outputs": [
    {
     "data": {
      "text/plain": [
       "[Tool(name='tavily_search', description='Search the web for real-time information about any topic. Use this tool when you need up-to-date information that might not be available in your training data, or when you need to verify current facts. The search results will include relevant snippets and URLs from web pages. This is particularly useful for questions about current events, technology updates, or any topic that requires recent information.', inputSchema={'properties': {'query': {'description': 'Search query', 'title': 'Query', 'type': 'string'}, 'max_results': {'default': 5, 'description': 'The maximum number of search results to return', 'title': 'Max Results', 'type': 'integer'}, 'search_depth': {'default': 'basic', 'description': \"The depth of the search. It can be 'basic' or 'advanced'\", 'enum': ['basic', 'advanced'], 'title': 'Search Depth', 'type': 'string'}, 'topic': {'default': 'general', 'description': 'The category of the search. This will determine which of our agents will be used for the search', 'enum': ['general', 'news', 'finance'], 'title': 'Topic', 'type': 'string'}, 'days': {'default': 30, 'description': \"The number of days back from the current date to include in the search results. This specifies the time frame of data to be retrieved. Please note that this feature is only available when using the 'news' search topic\", 'title': 'Days', 'type': 'integer'}, 'time_range': {'default': 'month', 'description': \"The time range back from the current date to include in the search results. This feature is available for both 'general' and 'news' search topics\", 'enum': ['day', 'week', 'month', 'year', 'd', 'w', 'm', 'y'], 'title': 'Time Range', 'type': 'string'}, 'include_images': {'default': False, 'description': 'Include a list of query-related images in the response', 'title': 'Include Images', 'type': 'boolean'}, 'include_image_descriptions': {'default': False, 'description': 'Include a list of query-related images and their descriptions in the response', 'title': 'Include Image Descriptions', 'type': 'boolean'}, 'include_raw_content': {'default': False, 'description': 'Include the cleaned and parsed HTML content of each search result', 'title': 'Include Raw Content', 'type': 'boolean'}, 'include_domains': {'default': [], 'description': 'A list of domains to specifically include in the search results, if the user asks to search on specific sites set this to the domain of the site', 'items': {'type': 'string'}, 'title': 'Include Domains', 'type': 'array'}, 'exclude_domains': {'default': [], 'description': 'List of domains to specifically exclude, if the user asks to exclude a domain set this to the domain of the site', 'items': {'type': 'string'}, 'title': 'Exclude Domains', 'type': 'array'}, 'country': {'default': '', 'description': 'Boost search results from a specific country. This will prioritize content from the selected country in the search results. Available only if topic is general.', 'title': 'Country', 'type': 'string'}, 'include_favicon': {'default': False, 'description': 'Whether to include the favicon URL for each result', 'title': 'Include Favicon', 'type': 'boolean'}}, 'required': ['query'], 'type': 'object'}, annotations=None, outputSchema={'additionalProperties': True, 'type': 'object'}),\n",
       " Tool(name='tavily_extract', description='Extract and process content from specific web pages. Use this tool when you have URLs and need to get the full text content from those pages. Returns clean, structured content in markdown or text format. Useful for reading articles, documentation, or any web page content that you need to analyze or reference.', inputSchema={'properties': {'urls': {'description': 'List of URLs to extract content from', 'items': {'type': 'string'}, 'title': 'Urls', 'type': 'array'}, 'extract_depth': {'default': 'basic', 'description': \"Depth of extraction - 'basic' or 'advanced', if usrls are linkedin use 'advanced' or if explicitly told to use advanced\", 'enum': ['basic', 'advanced'], 'title': 'Extract Depth', 'type': 'string'}, 'include_images': {'default': False, 'description': 'Include a list of images extracted from the urls in the response', 'title': 'Include Images', 'type': 'boolean'}, 'format': {'default': 'markdown', 'description': 'The format of the extracted web page content. markdown returns content in markdown format. text returns plain text and may increase latency.', 'enum': ['markdown', 'text'], 'title': 'Format', 'type': 'string'}, 'include_favicon': {'default': False, 'description': 'Whether to include the favicon URL for each result', 'title': 'Include Favicon', 'type': 'boolean'}}, 'required': ['urls'], 'type': 'object'}, annotations=None, outputSchema={'additionalProperties': True, 'type': 'object'}),\n",
       " Tool(name='tavily_crawl', description=\"Crawl multiple pages from a website starting from a base URL. Use this tool when you need to gather information from multiple related pages across a website or explore a site's structure. It follows internal links and extracts content from multiple pages, but truncates content to 500 characters per page. For full content extraction, use tavily_map to discover URLs first, then tavily_extract to get complete content from specific pages. Useful for comprehensive research on documentation sites, blogs, or when you need to understand the full scope of information available on a website.\", inputSchema={'properties': {'url': {'description': 'The root URL to begin the crawl', 'title': 'Url', 'type': 'string'}, 'max_depth': {'default': 1, 'description': 'Max depth of the crawl. Defines how far from the base URL the crawler can explore.', 'minimum': 1, 'title': 'Max Depth', 'type': 'integer'}, 'max_breadth': {'default': 20, 'description': 'Max number of links to follow per level of the tree (i.e., per page)', 'minimum': 1, 'title': 'Max Breadth', 'type': 'integer'}, 'limit': {'default': 50, 'description': 'Total number of links the crawler will process before stopping', 'minimum': 1, 'title': 'Limit', 'type': 'integer'}, 'instructions': {'default': '', 'description': 'Natural language instructions for the crawler', 'title': 'Instructions', 'type': 'string'}, 'select_paths': {'default': [], 'description': 'Regex patterns to select only URLs with specific path patterns (e.g., /docs/.*, /api/v1.*)', 'items': {'type': 'string'}, 'title': 'Select Paths', 'type': 'array'}, 'select_domains': {'default': [], 'description': 'Regex patterns to select crawling to specific domains or subdomains (e.g., ^docs\\\\.example\\\\.com$)', 'items': {'type': 'string'}, 'title': 'Select Domains', 'type': 'array'}, 'exclude_paths': {'default': [], 'description': 'Regex patterns to exclude URLs from the crawl with specific path patterns', 'items': {'type': 'string'}, 'title': 'Exclude Paths', 'type': 'array'}, 'exclude_domains': {'default': [], 'description': 'Regex patterns to exclude URLs from specific domains or subdomains', 'items': {'type': 'string'}, 'title': 'Exclude Domains', 'type': 'array'}, 'allow_external': {'default': False, 'description': 'Whether to allow following links that go to external domains', 'title': 'Allow External', 'type': 'boolean'}, 'include_images': {'default': False, 'description': 'Whether to include images in the crawl results', 'title': 'Include Images', 'type': 'boolean'}, 'categories': {'default': [], 'description': 'Filter URLs using predefined categories like documentation, blog, api, etc', 'items': {'enum': ['Careers', 'Blog', 'Documentation', 'About', 'Pricing', 'Community', 'Developers', 'Contact', 'Media'], 'type': 'string'}, 'title': 'Categories', 'type': 'array'}, 'extract_depth': {'default': 'basic', 'description': 'Advanced extraction retrieves more data, including tables and embedded content, with higher success but may increase latency', 'enum': ['basic', 'advanced'], 'title': 'Extract Depth', 'type': 'string'}, 'format': {'default': 'markdown', 'description': 'The format of the extracted web page content. markdown returns content in markdown format. text returns plain text and may increase latency.', 'enum': ['markdown', 'text'], 'title': 'Format', 'type': 'string'}, 'include_favicon': {'default': False, 'description': 'Whether to include the favicon URL for each result', 'title': 'Include Favicon', 'type': 'boolean'}}, 'required': ['url'], 'type': 'object'}, annotations=None, outputSchema={'additionalProperties': True, 'type': 'object'}),\n",
       " Tool(name='tavily_map', description=\"Map and discover the structure of a website by finding all its URLs and pages. Use this tool when you need to understand a website's organization, find specific pages, or get an overview of all available content without extracting the actual text. Returns a structured list of URLs and their relationships. Useful for site exploration, finding documentation pages, or understanding how a website is organized.\", inputSchema={'properties': {'url': {'description': 'The root URL to begin the mapping', 'title': 'Url', 'type': 'string'}, 'max_depth': {'default': 1, 'description': 'Max depth of the mapping. Defines how far from the base URL the crawler can explore', 'minimum': 1, 'title': 'Max Depth', 'type': 'integer'}, 'max_breadth': {'default': 20, 'description': 'Max number of links to follow per level of the tree (i.e., per page)', 'minimum': 1, 'title': 'Max Breadth', 'type': 'integer'}, 'limit': {'default': 50, 'description': 'Total number of links the crawler will process before stopping', 'minimum': 1, 'title': 'Limit', 'type': 'integer'}, 'instructions': {'default': '', 'description': 'Natural language instructions for the crawler', 'title': 'Instructions', 'type': 'string'}, 'select_paths': {'default': [], 'description': 'Regex patterns to select only URLs with specific path patterns (e.g., /docs/.*, /api/v1.*)', 'items': {'type': 'string'}, 'title': 'Select Paths', 'type': 'array'}, 'select_domains': {'default': [], 'description': 'Regex patterns to select crawling to specific domains or subdomains (e.g., ^docs\\\\.example\\\\.com$)', 'items': {'type': 'string'}, 'title': 'Select Domains', 'type': 'array'}, 'exclude_paths': {'default': [], 'description': 'Regex patterns to exclude URLs from the crawl with specific path patterns', 'items': {'type': 'string'}, 'title': 'Exclude Paths', 'type': 'array'}, 'exclude_domains': {'default': [], 'description': 'Regex patterns to exclude URLs from specific domains or subdomains', 'items': {'type': 'string'}, 'title': 'Exclude Domains', 'type': 'array'}, 'allow_external': {'default': False, 'description': 'Whether to allow following links that go to external domains', 'title': 'Allow External', 'type': 'boolean'}, 'categories': {'default': [], 'description': 'Filter URLs using predefined categories like documentation, blog, api, etc', 'items': {'enum': ['Careers', 'Blog', 'Documentation', 'About', 'Pricing', 'Community', 'Developers', 'Contact', 'Media'], 'type': 'string'}, 'title': 'Categories', 'type': 'array'}}, 'required': ['url'], 'type': 'object'}, annotations=None, outputSchema={'additionalProperties': True, 'type': 'object'})]"
      ]
     },
     "execution_count": 15,
     "metadata": {},
     "output_type": "execute_result"
    }
   ],
   "source": [
    "params = {\n",
    "      \"command\": \"npx\",\n",
    "      \"args\": [\n",
    "        \"-y\",\n",
    "        \"mcp-remote\",\n",
    "        f\"https://mcp.tavily.com/mcp/?tavilyApiKey={os.getenv(\"TAVILY_API_KEY\")}\",\n",
    "      ]\n",
    "    }\n",
    "\n",
    "async with MCPServerStdio(params=params) as server:\n",
    "    mcp_tools = await server.list_tools()\n",
    "\n",
    "mcp_tools"
   ]
  },
  {
   "cell_type": "code",
   "execution_count": 16,
   "metadata": {},
   "outputs": [],
   "source": [
    "instructions = \"You are able to search the web for information and briefly summarize the takeaways.\"\n",
    "request = f\"Please research the latest news on Amazon stock price and briefly summarize its outlook. \\\n",
    "For context, the current date is {datetime.now().strftime('%Y-%m-%d')}\"\n",
    "model = gemini_model"
   ]
  },
  {
   "cell_type": "code",
   "execution_count": 17,
   "metadata": {},
   "outputs": [
    {
     "data": {
      "text/markdown": [
       "Based on the search results, here's a brief summary of Amazon's stock price outlook as of July 2025:\n",
       "\n",
       "*   **Positive Sentiment:** Recent news indicates a generally positive outlook for Amazon (AMZN).\n",
       "*   **Earnings Report:** Amazon is scheduled to report its Q2 2025 financial results on July 31st, and there's anticipation that they will exceed expectations.\n",
       "*   **Analyst Ratings:** An analyst from Morgan Stanley has reiterated Amazon as his \"top pick,\" raising the stock's price target to $300 from $250. Another bank, BofA, raised its target based on an expected Q2 retail beat and potential growth in Amazon Web Services (AWS).\n",
       "*   **Stock Performance:** Financial analysis shows that the latest close price is $228.29. The highest close price in the past 2 years is $242.06. The stock has demonstrated a strong return over the past two years."
      ],
      "text/plain": [
       "<IPython.core.display.Markdown object>"
      ]
     },
     "metadata": {},
     "output_type": "display_data"
    }
   ],
   "source": [
    "async with MCPServerStdio(params=params, client_session_timeout_seconds=30) as mcp_server:\n",
    "    agent = Agent(name=\"agent\", instructions=instructions, model=model, mcp_servers=[mcp_server])\n",
    "    with trace(\"conversation\"):\n",
    "        result = await Runner.run(agent, request)\n",
    "    display(Markdown(result.final_output))"
   ]
  },
  {
   "cell_type": "markdown",
   "metadata": {},
   "source": [
    "### As usual, check out the trace:\n",
    "\n",
    "https://platform.openai.com/traces"
   ]
  },
  {
   "cell_type": "markdown",
   "metadata": {},
   "source": [
    "## And now the third type: running remotely\n",
    "\n",
    "It's actually really hard to find a \"remote MCP server\" aka \"hosted MCP server\" aka \"managed MCP server\".\n",
    "\n",
    "It's not a common model for using or sharing MCP servers, and there isn't a standard way to discover remote MCP servers.\n",
    "\n",
    "Anthropic lists some remote MCP servers, but these are for paid applications with business users:\n",
    "\n",
    "https://docs.anthropic.com/en/docs/agents-and-tools/remote-mcp-servers\n",
    "\n",
    "CloudFlare has tooling for you to create and deploy your own remote MCP servers, but this does not seem to be a common practice:\n",
    "\n",
    "https://developers.cloudflare.com/agents/guides/remote-mcp-server/\n"
   ]
  },
  {
   "cell_type": "markdown",
   "metadata": {},
   "source": [
    "# And back to the 2nd type: the Polygon.io MCP Server"
   ]
  },
  {
   "cell_type": "markdown",
   "metadata": {},
   "source": [
    "<table style=\"margin: 0; text-align: left; width:100%\">\n",
    "    <tr>\n",
    "        <td style=\"width: 150px; height: 150px; vertical-align: middle;\">\n",
    "            <img src=\"../assets/stop.png\" width=\"150\" height=\"150\" style=\"display: block;\" />\n",
    "        </td>\n",
    "        <td>\n",
    "            <h2 style=\"color:#ff7800;\">PLEASE READ!!-</h2>\n",
    "            <span style=\"color:#ff7800;\">This service for financial market data has both a FREE plan and a PAID plan, and we can use either depending on your appetite.\n",
    "            </span>\n",
    "        </td>\n",
    "    </tr>\n",
    "</table>"
   ]
  },
  {
   "cell_type": "markdown",
   "metadata": {},
   "source": [
    "## NEW SECTION: Introducing polygon.io\n",
    "\n",
    "Polygon.io is a hugely popular financial data provider. It has a free plan and a paid plan. And it also has an MCP Server!\n",
    "\n",
    "First, read up on polygon.io on their excellent website, including looking at their pricing:\n",
    "\n",
    "https://polygon.io\n",
    "\n",
    "### Polygon.io Part 1: Polygon.io free service (the paid will be totally optional, of course!)\n",
    "\n",
    "1. Please sign up for polygon.io (top right)  \n",
    "2. Once signed in, please select \"Keys\" in the left hand navigation\n",
    "3. Press the blue \"New Key\" button\n",
    "4. Copy the key name\n",
    "5. Edit your .env file and add the row:\n",
    "\n",
    "`POLYGON_API_KEY=xxxx`"
   ]
  },
  {
   "cell_type": "code",
   "execution_count": 18,
   "metadata": {},
   "outputs": [],
   "source": [
    "load_dotenv(override=True)\n",
    "polygon_api_key = os.getenv(\"POLYGON_API_KEY\")\n",
    "if not polygon_api_key:\n",
    "    print(\"POLYGON_API_KEY is not set\")"
   ]
  },
  {
   "cell_type": "code",
   "execution_count": 19,
   "metadata": {},
   "outputs": [
    {
     "data": {
      "text/plain": [
       "PreviousCloseAgg(ticker='AAPL', close=214.4, high=214.95, low=212.2301, open=213.14, timestamp=1753214400000, volume=46404072.0, vwap=213.6492)"
      ]
     },
     "execution_count": 19,
     "metadata": {},
     "output_type": "execute_result"
    }
   ],
   "source": [
    "from polygon import RESTClient\n",
    "client = RESTClient(polygon_api_key)\n",
    "client.get_previous_close_agg(\"AAPL\")[0]"
   ]
  },
  {
   "cell_type": "markdown",
   "metadata": {},
   "source": [
    "### Wrapped into a python module that caches end of day prices\n",
    "\n",
    "I've made a python module `market.py` that uses this API to look up share prices.\n",
    "\n",
    "But the free API is quite heavily rate limited - so I've been a bit sneaky; when you ask for a share price, this function retrieves the entire end-of-day equity market, and caches it in our database.\n"
   ]
  },
  {
   "cell_type": "code",
   "execution_count": 20,
   "metadata": {},
   "outputs": [
    {
     "data": {
      "text/plain": [
       "214.4"
      ]
     },
     "execution_count": 20,
     "metadata": {},
     "output_type": "execute_result"
    }
   ],
   "source": [
    "from market import get_share_price\n",
    "get_share_price(\"AAPL\")"
   ]
  },
  {
   "cell_type": "code",
   "execution_count": 21,
   "metadata": {},
   "outputs": [
    {
     "data": {
      "text/plain": [
       "214.4"
      ]
     },
     "execution_count": 21,
     "metadata": {},
     "output_type": "execute_result"
    }
   ],
   "source": [
    "# no rate limiting concerns!\n",
    "\n",
    "for i in range(1000):\n",
    "    get_share_price(\"AAPL\")\n",
    "get_share_price(\"AAPL\")"
   ]
  },
  {
   "cell_type": "markdown",
   "metadata": {},
   "source": [
    "### And I've made this into an MCP Server\n",
    "\n",
    "Just as we did with accounts.py; see `market_server.py`"
   ]
  },
  {
   "cell_type": "code",
   "execution_count": 22,
   "metadata": {},
   "outputs": [
    {
     "data": {
      "text/plain": [
       "[Tool(name='lookup_share_price', description='This tool provides the current price of the given stock symbol.\\n\\n    Args:\\n        symbol: the symbol of the stock\\n    ', inputSchema={'properties': {'symbol': {'title': 'Symbol', 'type': 'string'}}, 'required': ['symbol'], 'title': 'lookup_share_priceArguments', 'type': 'object'}, annotations=None)]"
      ]
     },
     "execution_count": 22,
     "metadata": {},
     "output_type": "execute_result"
    }
   ],
   "source": [
    "params = {\"command\": \"uv\", \"args\": [\"run\", \"market_server.py\"]}\n",
    "async with MCPServerStdio(params=params) as server:\n",
    "    mcp_tools = await server.list_tools()\n",
    "mcp_tools"
   ]
  },
  {
   "cell_type": "markdown",
   "metadata": {},
   "source": [
    "### Let's try it out!\n",
    "\n",
    "Hopefully gpt-4o-mini is smart enough to know that the symbol for Apple is AAPL"
   ]
  },
  {
   "cell_type": "code",
   "execution_count": 23,
   "metadata": {},
   "outputs": [
    {
     "data": {
      "text/markdown": [
       "The share price of Apple is $214.4."
      ],
      "text/plain": [
       "<IPython.core.display.Markdown object>"
      ]
     },
     "metadata": {},
     "output_type": "display_data"
    }
   ],
   "source": [
    "instructions = \"You answer questions about the stock market.\"\n",
    "request = \"What's the share price of Apple?\"\n",
    "model = gemini_model\n",
    "\n",
    "async with MCPServerStdio(params=params) as mcp_server:\n",
    "    agent = Agent(name=\"agent\", instructions=instructions, model=model, mcp_servers=[mcp_server])\n",
    "    with trace(\"conversation\"):\n",
    "        result = await Runner.run(agent, request)\n",
    "    display(Markdown(result.final_output))"
   ]
  },
  {
   "cell_type": "markdown",
   "metadata": {},
   "source": [
    "## Polygon.io Part 2: Paid Plan - Totally Optional!\n",
    "\n",
    "If you are interested, you can subscribe to the monthly plan to get more up to date market data, and unlimited API calls.\n",
    "\n",
    "If you do wish to do this, then it also makes sense to use the full MCP server that Polygon.io has released, to take advantage of all their functionality.\n",
    "\n"
   ]
  },
  {
   "cell_type": "code",
   "execution_count": 24,
   "metadata": {},
   "outputs": [
    {
     "data": {
      "text/plain": [
       "[Tool(name='get_aggs', description='\\n    List aggregate bars for a ticker over a given date range in custom time window sizes.\\n    ', inputSchema={'properties': {'ticker': {'title': 'Ticker', 'type': 'string'}, 'multiplier': {'title': 'Multiplier', 'type': 'integer'}, 'timespan': {'title': 'Timespan', 'type': 'string'}, 'from_': {'anyOf': [{'type': 'string'}, {'type': 'integer'}, {'format': 'date-time', 'type': 'string'}, {'format': 'date', 'type': 'string'}], 'title': 'From'}, 'to': {'anyOf': [{'type': 'string'}, {'type': 'integer'}, {'format': 'date-time', 'type': 'string'}, {'format': 'date', 'type': 'string'}], 'title': 'To'}, 'adjusted': {'anyOf': [{'type': 'boolean'}, {'type': 'null'}], 'default': None, 'title': 'Adjusted'}, 'sort': {'anyOf': [{'type': 'string'}, {'type': 'null'}], 'default': None, 'title': 'Sort'}, 'limit': {'anyOf': [{'type': 'integer'}, {'type': 'null'}], 'default': None, 'title': 'Limit'}, 'params': {'anyOf': [{'additionalProperties': True, 'type': 'object'}, {'type': 'null'}], 'default': None, 'title': 'Params'}}, 'required': ['ticker', 'multiplier', 'timespan', 'from_', 'to'], 'title': 'get_aggsArguments', 'type': 'object'}, annotations=None, outputSchema={'properties': {'result': {'additionalProperties': True, 'title': 'Result', 'type': 'object'}}, 'required': ['result'], 'title': 'get_aggsOutput', 'type': 'object'}),\n",
       " Tool(name='list_aggs', description='\\n    Iterate through aggregate bars for a ticker over a given date range.\\n    ', inputSchema={'properties': {'ticker': {'title': 'Ticker', 'type': 'string'}, 'multiplier': {'title': 'Multiplier', 'type': 'integer'}, 'timespan': {'title': 'Timespan', 'type': 'string'}, 'from_': {'anyOf': [{'type': 'string'}, {'type': 'integer'}, {'format': 'date-time', 'type': 'string'}, {'format': 'date', 'type': 'string'}], 'title': 'From'}, 'to': {'anyOf': [{'type': 'string'}, {'type': 'integer'}, {'format': 'date-time', 'type': 'string'}, {'format': 'date', 'type': 'string'}], 'title': 'To'}, 'adjusted': {'anyOf': [{'type': 'boolean'}, {'type': 'null'}], 'default': None, 'title': 'Adjusted'}, 'sort': {'anyOf': [{'type': 'string'}, {'type': 'null'}], 'default': None, 'title': 'Sort'}, 'limit': {'anyOf': [{'type': 'integer'}, {'type': 'null'}], 'default': None, 'title': 'Limit'}, 'params': {'anyOf': [{'additionalProperties': True, 'type': 'object'}, {'type': 'null'}], 'default': None, 'title': 'Params'}}, 'required': ['ticker', 'multiplier', 'timespan', 'from_', 'to'], 'title': 'list_aggsArguments', 'type': 'object'}, annotations=None, outputSchema={'properties': {'result': {'additionalProperties': True, 'title': 'Result', 'type': 'object'}}, 'required': ['result'], 'title': 'list_aggsOutput', 'type': 'object'}),\n",
       " Tool(name='get_grouped_daily_aggs', description='\\n    Get grouped daily bars for entire market for a specific date.\\n    ', inputSchema={'properties': {'date': {'title': 'Date', 'type': 'string'}, 'adjusted': {'anyOf': [{'type': 'boolean'}, {'type': 'null'}], 'default': None, 'title': 'Adjusted'}, 'include_otc': {'anyOf': [{'type': 'boolean'}, {'type': 'null'}], 'default': None, 'title': 'Include Otc'}, 'locale': {'anyOf': [{'type': 'string'}, {'type': 'null'}], 'default': None, 'title': 'Locale'}, 'market_type': {'anyOf': [{'type': 'string'}, {'type': 'null'}], 'default': None, 'title': 'Market Type'}, 'params': {'anyOf': [{'additionalProperties': True, 'type': 'object'}, {'type': 'null'}], 'default': None, 'title': 'Params'}}, 'required': ['date'], 'title': 'get_grouped_daily_aggsArguments', 'type': 'object'}, annotations=None, outputSchema={'properties': {'result': {'additionalProperties': True, 'title': 'Result', 'type': 'object'}}, 'required': ['result'], 'title': 'get_grouped_daily_aggsOutput', 'type': 'object'}),\n",
       " Tool(name='get_daily_open_close_agg', description='\\n    Get daily open, close, high, and low for a specific ticker and date.\\n    ', inputSchema={'properties': {'ticker': {'title': 'Ticker', 'type': 'string'}, 'date': {'title': 'Date', 'type': 'string'}, 'adjusted': {'anyOf': [{'type': 'boolean'}, {'type': 'null'}], 'default': None, 'title': 'Adjusted'}, 'params': {'anyOf': [{'additionalProperties': True, 'type': 'object'}, {'type': 'null'}], 'default': None, 'title': 'Params'}}, 'required': ['ticker', 'date'], 'title': 'get_daily_open_close_aggArguments', 'type': 'object'}, annotations=None, outputSchema={'properties': {'result': {'additionalProperties': True, 'title': 'Result', 'type': 'object'}}, 'required': ['result'], 'title': 'get_daily_open_close_aggOutput', 'type': 'object'}),\n",
       " Tool(name='get_previous_close_agg', description=\"\\n    Get previous day's open, close, high, and low for a specific ticker.\\n    \", inputSchema={'properties': {'ticker': {'title': 'Ticker', 'type': 'string'}, 'adjusted': {'anyOf': [{'type': 'boolean'}, {'type': 'null'}], 'default': None, 'title': 'Adjusted'}, 'params': {'anyOf': [{'additionalProperties': True, 'type': 'object'}, {'type': 'null'}], 'default': None, 'title': 'Params'}}, 'required': ['ticker'], 'title': 'get_previous_close_aggArguments', 'type': 'object'}, annotations=None, outputSchema={'properties': {'result': {'additionalProperties': True, 'title': 'Result', 'type': 'object'}}, 'required': ['result'], 'title': 'get_previous_close_aggOutput', 'type': 'object'}),\n",
       " Tool(name='list_trades', description='\\n    Get trades for a ticker symbol.\\n    ', inputSchema={'properties': {'ticker': {'title': 'Ticker', 'type': 'string'}, 'timestamp': {'anyOf': [{'type': 'string'}, {'type': 'integer'}, {'format': 'date-time', 'type': 'string'}, {'format': 'date', 'type': 'string'}, {'type': 'null'}], 'default': None, 'title': 'Timestamp'}, 'timestamp_lt': {'anyOf': [{'type': 'string'}, {'type': 'integer'}, {'format': 'date-time', 'type': 'string'}, {'format': 'date', 'type': 'string'}, {'type': 'null'}], 'default': None, 'title': 'Timestamp Lt'}, 'timestamp_lte': {'anyOf': [{'type': 'string'}, {'type': 'integer'}, {'format': 'date-time', 'type': 'string'}, {'format': 'date', 'type': 'string'}, {'type': 'null'}], 'default': None, 'title': 'Timestamp Lte'}, 'timestamp_gt': {'anyOf': [{'type': 'string'}, {'type': 'integer'}, {'format': 'date-time', 'type': 'string'}, {'format': 'date', 'type': 'string'}, {'type': 'null'}], 'default': None, 'title': 'Timestamp Gt'}, 'timestamp_gte': {'anyOf': [{'type': 'string'}, {'type': 'integer'}, {'format': 'date-time', 'type': 'string'}, {'format': 'date', 'type': 'string'}, {'type': 'null'}], 'default': None, 'title': 'Timestamp Gte'}, 'limit': {'anyOf': [{'type': 'integer'}, {'type': 'null'}], 'default': None, 'title': 'Limit'}, 'sort': {'anyOf': [{'type': 'string'}, {'type': 'null'}], 'default': None, 'title': 'Sort'}, 'order': {'anyOf': [{'type': 'string'}, {'type': 'null'}], 'default': None, 'title': 'Order'}, 'params': {'anyOf': [{'additionalProperties': True, 'type': 'object'}, {'type': 'null'}], 'default': None, 'title': 'Params'}}, 'required': ['ticker'], 'title': 'list_tradesArguments', 'type': 'object'}, annotations=None, outputSchema={'properties': {'result': {'additionalProperties': True, 'title': 'Result', 'type': 'object'}}, 'required': ['result'], 'title': 'list_tradesOutput', 'type': 'object'}),\n",
       " Tool(name='get_last_trade', description='\\n    Get the most recent trade for a ticker symbol.\\n    ', inputSchema={'properties': {'ticker': {'title': 'Ticker', 'type': 'string'}, 'params': {'anyOf': [{'additionalProperties': True, 'type': 'object'}, {'type': 'null'}], 'default': None, 'title': 'Params'}}, 'required': ['ticker'], 'title': 'get_last_tradeArguments', 'type': 'object'}, annotations=None, outputSchema={'properties': {'result': {'additionalProperties': True, 'title': 'Result', 'type': 'object'}}, 'required': ['result'], 'title': 'get_last_tradeOutput', 'type': 'object'}),\n",
       " Tool(name='get_last_crypto_trade', description='\\n    Get the most recent trade for a crypto pair.\\n    ', inputSchema={'properties': {'from_': {'title': 'From', 'type': 'string'}, 'to': {'title': 'To', 'type': 'string'}, 'params': {'anyOf': [{'additionalProperties': True, 'type': 'object'}, {'type': 'null'}], 'default': None, 'title': 'Params'}}, 'required': ['from_', 'to'], 'title': 'get_last_crypto_tradeArguments', 'type': 'object'}, annotations=None, outputSchema={'properties': {'result': {'additionalProperties': True, 'title': 'Result', 'type': 'object'}}, 'required': ['result'], 'title': 'get_last_crypto_tradeOutput', 'type': 'object'}),\n",
       " Tool(name='list_quotes', description='\\n    Get quotes for a ticker symbol.\\n    ', inputSchema={'properties': {'ticker': {'title': 'Ticker', 'type': 'string'}, 'timestamp': {'anyOf': [{'type': 'string'}, {'type': 'integer'}, {'format': 'date-time', 'type': 'string'}, {'format': 'date', 'type': 'string'}, {'type': 'null'}], 'default': None, 'title': 'Timestamp'}, 'timestamp_lt': {'anyOf': [{'type': 'string'}, {'type': 'integer'}, {'format': 'date-time', 'type': 'string'}, {'format': 'date', 'type': 'string'}, {'type': 'null'}], 'default': None, 'title': 'Timestamp Lt'}, 'timestamp_lte': {'anyOf': [{'type': 'string'}, {'type': 'integer'}, {'format': 'date-time', 'type': 'string'}, {'format': 'date', 'type': 'string'}, {'type': 'null'}], 'default': None, 'title': 'Timestamp Lte'}, 'timestamp_gt': {'anyOf': [{'type': 'string'}, {'type': 'integer'}, {'format': 'date-time', 'type': 'string'}, {'format': 'date', 'type': 'string'}, {'type': 'null'}], 'default': None, 'title': 'Timestamp Gt'}, 'timestamp_gte': {'anyOf': [{'type': 'string'}, {'type': 'integer'}, {'format': 'date-time', 'type': 'string'}, {'format': 'date', 'type': 'string'}, {'type': 'null'}], 'default': None, 'title': 'Timestamp Gte'}, 'limit': {'anyOf': [{'type': 'integer'}, {'type': 'null'}], 'default': None, 'title': 'Limit'}, 'sort': {'anyOf': [{'type': 'string'}, {'type': 'null'}], 'default': None, 'title': 'Sort'}, 'order': {'anyOf': [{'type': 'string'}, {'type': 'null'}], 'default': None, 'title': 'Order'}, 'params': {'anyOf': [{'additionalProperties': True, 'type': 'object'}, {'type': 'null'}], 'default': None, 'title': 'Params'}}, 'required': ['ticker'], 'title': 'list_quotesArguments', 'type': 'object'}, annotations=None, outputSchema={'properties': {'result': {'additionalProperties': True, 'title': 'Result', 'type': 'object'}}, 'required': ['result'], 'title': 'list_quotesOutput', 'type': 'object'}),\n",
       " Tool(name='get_last_quote', description='\\n    Get the most recent quote for a ticker symbol.\\n    ', inputSchema={'properties': {'ticker': {'title': 'Ticker', 'type': 'string'}, 'params': {'anyOf': [{'additionalProperties': True, 'type': 'object'}, {'type': 'null'}], 'default': None, 'title': 'Params'}}, 'required': ['ticker'], 'title': 'get_last_quoteArguments', 'type': 'object'}, annotations=None, outputSchema={'properties': {'result': {'additionalProperties': True, 'title': 'Result', 'type': 'object'}}, 'required': ['result'], 'title': 'get_last_quoteOutput', 'type': 'object'}),\n",
       " Tool(name='get_last_forex_quote', description='\\n    Get the most recent forex quote.\\n    ', inputSchema={'properties': {'from_': {'title': 'From', 'type': 'string'}, 'to': {'title': 'To', 'type': 'string'}, 'params': {'anyOf': [{'additionalProperties': True, 'type': 'object'}, {'type': 'null'}], 'default': None, 'title': 'Params'}}, 'required': ['from_', 'to'], 'title': 'get_last_forex_quoteArguments', 'type': 'object'}, annotations=None, outputSchema={'properties': {'result': {'additionalProperties': True, 'title': 'Result', 'type': 'object'}}, 'required': ['result'], 'title': 'get_last_forex_quoteOutput', 'type': 'object'}),\n",
       " Tool(name='get_real_time_currency_conversion', description='\\n    Get real-time currency conversion.\\n    ', inputSchema={'properties': {'from_': {'title': 'From', 'type': 'string'}, 'to': {'title': 'To', 'type': 'string'}, 'amount': {'anyOf': [{'type': 'number'}, {'type': 'null'}], 'default': None, 'title': 'Amount'}, 'precision': {'anyOf': [{'type': 'integer'}, {'type': 'null'}], 'default': None, 'title': 'Precision'}, 'params': {'anyOf': [{'additionalProperties': True, 'type': 'object'}, {'type': 'null'}], 'default': None, 'title': 'Params'}}, 'required': ['from_', 'to'], 'title': 'get_real_time_currency_conversionArguments', 'type': 'object'}, annotations=None, outputSchema={'properties': {'result': {'additionalProperties': True, 'title': 'Result', 'type': 'object'}}, 'required': ['result'], 'title': 'get_real_time_currency_conversionOutput', 'type': 'object'}),\n",
       " Tool(name='list_universal_snapshots', description='\\n    Get universal snapshots for multiple assets of a specific type.\\n    ', inputSchema={'properties': {'type': {'title': 'Type', 'type': 'string'}, 'ticker_any_of': {'anyOf': [{'items': {'type': 'string'}, 'type': 'array'}, {'type': 'null'}], 'default': None, 'title': 'Ticker Any Of'}, 'order': {'anyOf': [{'type': 'string'}, {'type': 'null'}], 'default': None, 'title': 'Order'}, 'limit': {'anyOf': [{'type': 'integer'}, {'type': 'null'}], 'default': None, 'title': 'Limit'}, 'sort': {'anyOf': [{'type': 'string'}, {'type': 'null'}], 'default': None, 'title': 'Sort'}, 'params': {'anyOf': [{'additionalProperties': True, 'type': 'object'}, {'type': 'null'}], 'default': None, 'title': 'Params'}}, 'required': ['type'], 'title': 'list_universal_snapshotsArguments', 'type': 'object'}, annotations=None, outputSchema={'properties': {'result': {'additionalProperties': True, 'title': 'Result', 'type': 'object'}}, 'required': ['result'], 'title': 'list_universal_snapshotsOutput', 'type': 'object'}),\n",
       " Tool(name='get_snapshot_all', description='\\n    Get a snapshot of all tickers in a market.\\n    ', inputSchema={'properties': {'market_type': {'title': 'Market Type', 'type': 'string'}, 'tickers': {'anyOf': [{'items': {'type': 'string'}, 'type': 'array'}, {'type': 'null'}], 'default': None, 'title': 'Tickers'}, 'include_otc': {'anyOf': [{'type': 'boolean'}, {'type': 'null'}], 'default': None, 'title': 'Include Otc'}, 'params': {'anyOf': [{'additionalProperties': True, 'type': 'object'}, {'type': 'null'}], 'default': None, 'title': 'Params'}}, 'required': ['market_type'], 'title': 'get_snapshot_allArguments', 'type': 'object'}, annotations=None, outputSchema={'properties': {'result': {'additionalProperties': True, 'title': 'Result', 'type': 'object'}}, 'required': ['result'], 'title': 'get_snapshot_allOutput', 'type': 'object'}),\n",
       " Tool(name='get_snapshot_direction', description='\\n    Get gainers or losers for a market.\\n    ', inputSchema={'properties': {'market_type': {'title': 'Market Type', 'type': 'string'}, 'direction': {'title': 'Direction', 'type': 'string'}, 'include_otc': {'anyOf': [{'type': 'boolean'}, {'type': 'null'}], 'default': None, 'title': 'Include Otc'}, 'params': {'anyOf': [{'additionalProperties': True, 'type': 'object'}, {'type': 'null'}], 'default': None, 'title': 'Params'}}, 'required': ['market_type', 'direction'], 'title': 'get_snapshot_directionArguments', 'type': 'object'}, annotations=None, outputSchema={'properties': {'result': {'additionalProperties': True, 'title': 'Result', 'type': 'object'}}, 'required': ['result'], 'title': 'get_snapshot_directionOutput', 'type': 'object'}),\n",
       " Tool(name='get_snapshot_ticker', description='\\n    Get snapshot for a specific ticker.\\n    ', inputSchema={'properties': {'market_type': {'title': 'Market Type', 'type': 'string'}, 'ticker': {'title': 'Ticker', 'type': 'string'}, 'params': {'anyOf': [{'additionalProperties': True, 'type': 'object'}, {'type': 'null'}], 'default': None, 'title': 'Params'}}, 'required': ['market_type', 'ticker'], 'title': 'get_snapshot_tickerArguments', 'type': 'object'}, annotations=None, outputSchema={'properties': {'result': {'additionalProperties': True, 'title': 'Result', 'type': 'object'}}, 'required': ['result'], 'title': 'get_snapshot_tickerOutput', 'type': 'object'}),\n",
       " Tool(name='get_snapshot_option', description='\\n    Get snapshot for a specific option contract.\\n    ', inputSchema={'properties': {'underlying_asset': {'title': 'Underlying Asset', 'type': 'string'}, 'option_contract': {'title': 'Option Contract', 'type': 'string'}, 'params': {'anyOf': [{'additionalProperties': True, 'type': 'object'}, {'type': 'null'}], 'default': None, 'title': 'Params'}}, 'required': ['underlying_asset', 'option_contract'], 'title': 'get_snapshot_optionArguments', 'type': 'object'}, annotations=None, outputSchema={'properties': {'result': {'additionalProperties': True, 'title': 'Result', 'type': 'object'}}, 'required': ['result'], 'title': 'get_snapshot_optionOutput', 'type': 'object'}),\n",
       " Tool(name='get_snapshot_crypto_book', description=\"\\n    Get snapshot for a crypto ticker's order book.\\n    \", inputSchema={'properties': {'ticker': {'title': 'Ticker', 'type': 'string'}, 'params': {'anyOf': [{'additionalProperties': True, 'type': 'object'}, {'type': 'null'}], 'default': None, 'title': 'Params'}}, 'required': ['ticker'], 'title': 'get_snapshot_crypto_bookArguments', 'type': 'object'}, annotations=None, outputSchema={'properties': {'result': {'additionalProperties': True, 'title': 'Result', 'type': 'object'}}, 'required': ['result'], 'title': 'get_snapshot_crypto_bookOutput', 'type': 'object'}),\n",
       " Tool(name='get_market_holidays', description='\\n    Get upcoming market holidays and their open/close times.\\n    ', inputSchema={'properties': {'params': {'anyOf': [{'additionalProperties': True, 'type': 'object'}, {'type': 'null'}], 'default': None, 'title': 'Params'}}, 'title': 'get_market_holidaysArguments', 'type': 'object'}, annotations=None, outputSchema={'properties': {'result': {'additionalProperties': True, 'title': 'Result', 'type': 'object'}}, 'required': ['result'], 'title': 'get_market_holidaysOutput', 'type': 'object'}),\n",
       " Tool(name='get_market_status', description='\\n    Get current trading status of exchanges and financial markets.\\n    ', inputSchema={'properties': {'params': {'anyOf': [{'additionalProperties': True, 'type': 'object'}, {'type': 'null'}], 'default': None, 'title': 'Params'}}, 'title': 'get_market_statusArguments', 'type': 'object'}, annotations=None, outputSchema={'properties': {'result': {'additionalProperties': True, 'title': 'Result', 'type': 'object'}}, 'required': ['result'], 'title': 'get_market_statusOutput', 'type': 'object'}),\n",
       " Tool(name='list_tickers', description='\\n    Query supported ticker symbols across stocks, indices, forex, and crypto.\\n    ', inputSchema={'properties': {'ticker': {'anyOf': [{'type': 'string'}, {'type': 'null'}], 'default': None, 'title': 'Ticker'}, 'type': {'anyOf': [{'type': 'string'}, {'type': 'null'}], 'default': None, 'title': 'Type'}, 'market': {'anyOf': [{'type': 'string'}, {'type': 'null'}], 'default': None, 'title': 'Market'}, 'exchange': {'anyOf': [{'type': 'string'}, {'type': 'null'}], 'default': None, 'title': 'Exchange'}, 'cusip': {'anyOf': [{'type': 'string'}, {'type': 'null'}], 'default': None, 'title': 'Cusip'}, 'cik': {'anyOf': [{'type': 'string'}, {'type': 'null'}], 'default': None, 'title': 'Cik'}, 'date': {'anyOf': [{'type': 'string'}, {'format': 'date-time', 'type': 'string'}, {'format': 'date', 'type': 'string'}, {'type': 'null'}], 'default': None, 'title': 'Date'}, 'search': {'anyOf': [{'type': 'string'}, {'type': 'null'}], 'default': None, 'title': 'Search'}, 'active': {'anyOf': [{'type': 'boolean'}, {'type': 'null'}], 'default': None, 'title': 'Active'}, 'sort': {'anyOf': [{'type': 'string'}, {'type': 'null'}], 'default': None, 'title': 'Sort'}, 'order': {'anyOf': [{'type': 'string'}, {'type': 'null'}], 'default': None, 'title': 'Order'}, 'limit': {'anyOf': [{'type': 'integer'}, {'type': 'null'}], 'default': None, 'title': 'Limit'}, 'params': {'anyOf': [{'additionalProperties': True, 'type': 'object'}, {'type': 'null'}], 'default': None, 'title': 'Params'}}, 'title': 'list_tickersArguments', 'type': 'object'}, annotations=None, outputSchema={'properties': {'result': {'additionalProperties': True, 'title': 'Result', 'type': 'object'}}, 'required': ['result'], 'title': 'list_tickersOutput', 'type': 'object'}),\n",
       " Tool(name='get_ticker_details', description='\\n    Get detailed information about a specific ticker.\\n    ', inputSchema={'properties': {'ticker': {'title': 'Ticker', 'type': 'string'}, 'date': {'anyOf': [{'type': 'string'}, {'format': 'date-time', 'type': 'string'}, {'format': 'date', 'type': 'string'}, {'type': 'null'}], 'default': None, 'title': 'Date'}, 'params': {'anyOf': [{'additionalProperties': True, 'type': 'object'}, {'type': 'null'}], 'default': None, 'title': 'Params'}}, 'required': ['ticker'], 'title': 'get_ticker_detailsArguments', 'type': 'object'}, annotations=None, outputSchema={'properties': {'result': {'additionalProperties': True, 'title': 'Result', 'type': 'object'}}, 'required': ['result'], 'title': 'get_ticker_detailsOutput', 'type': 'object'}),\n",
       " Tool(name='list_ticker_news', description='\\n    Get recent news articles for a stock ticker.\\n    ', inputSchema={'properties': {'ticker': {'anyOf': [{'type': 'string'}, {'type': 'null'}], 'default': None, 'title': 'Ticker'}, 'published_utc': {'anyOf': [{'type': 'string'}, {'format': 'date-time', 'type': 'string'}, {'format': 'date', 'type': 'string'}, {'type': 'null'}], 'default': None, 'title': 'Published Utc'}, 'limit': {'anyOf': [{'type': 'integer'}, {'type': 'null'}], 'default': None, 'title': 'Limit'}, 'sort': {'anyOf': [{'type': 'string'}, {'type': 'null'}], 'default': None, 'title': 'Sort'}, 'order': {'anyOf': [{'type': 'string'}, {'type': 'null'}], 'default': None, 'title': 'Order'}, 'params': {'anyOf': [{'additionalProperties': True, 'type': 'object'}, {'type': 'null'}], 'default': None, 'title': 'Params'}}, 'title': 'list_ticker_newsArguments', 'type': 'object'}, annotations=None, outputSchema={'properties': {'result': {'additionalProperties': True, 'title': 'Result', 'type': 'object'}}, 'required': ['result'], 'title': 'list_ticker_newsOutput', 'type': 'object'}),\n",
       " Tool(name='get_ticker_types', description='\\n    List all ticker types supported by Polygon.io.\\n    ', inputSchema={'properties': {'asset_class': {'anyOf': [{'type': 'string'}, {'type': 'null'}], 'default': None, 'title': 'Asset Class'}, 'locale': {'anyOf': [{'type': 'string'}, {'type': 'null'}], 'default': None, 'title': 'Locale'}, 'params': {'anyOf': [{'additionalProperties': True, 'type': 'object'}, {'type': 'null'}], 'default': None, 'title': 'Params'}}, 'title': 'get_ticker_typesArguments', 'type': 'object'}, annotations=None, outputSchema={'properties': {'result': {'additionalProperties': True, 'title': 'Result', 'type': 'object'}}, 'required': ['result'], 'title': 'get_ticker_typesOutput', 'type': 'object'}),\n",
       " Tool(name='list_splits', description='\\n    Get historical stock splits.\\n    ', inputSchema={'properties': {'ticker': {'anyOf': [{'type': 'string'}, {'type': 'null'}], 'default': None, 'title': 'Ticker'}, 'execution_date': {'anyOf': [{'type': 'string'}, {'format': 'date-time', 'type': 'string'}, {'format': 'date', 'type': 'string'}, {'type': 'null'}], 'default': None, 'title': 'Execution Date'}, 'reverse_split': {'anyOf': [{'type': 'boolean'}, {'type': 'null'}], 'default': None, 'title': 'Reverse Split'}, 'limit': {'anyOf': [{'type': 'integer'}, {'type': 'null'}], 'default': None, 'title': 'Limit'}, 'params': {'anyOf': [{'additionalProperties': True, 'type': 'object'}, {'type': 'null'}], 'default': None, 'title': 'Params'}}, 'title': 'list_splitsArguments', 'type': 'object'}, annotations=None, outputSchema={'properties': {'result': {'additionalProperties': True, 'title': 'Result', 'type': 'object'}}, 'required': ['result'], 'title': 'list_splitsOutput', 'type': 'object'}),\n",
       " Tool(name='list_dividends', description='\\n    Get historical cash dividends.\\n    ', inputSchema={'properties': {'ticker': {'anyOf': [{'type': 'string'}, {'type': 'null'}], 'default': None, 'title': 'Ticker'}, 'ex_dividend_date': {'anyOf': [{'type': 'string'}, {'format': 'date-time', 'type': 'string'}, {'format': 'date', 'type': 'string'}, {'type': 'null'}], 'default': None, 'title': 'Ex Dividend Date'}, 'frequency': {'anyOf': [{'type': 'integer'}, {'type': 'null'}], 'default': None, 'title': 'Frequency'}, 'dividend_type': {'anyOf': [{'type': 'string'}, {'type': 'null'}], 'default': None, 'title': 'Dividend Type'}, 'limit': {'anyOf': [{'type': 'integer'}, {'type': 'null'}], 'default': None, 'title': 'Limit'}, 'params': {'anyOf': [{'additionalProperties': True, 'type': 'object'}, {'type': 'null'}], 'default': None, 'title': 'Params'}}, 'title': 'list_dividendsArguments', 'type': 'object'}, annotations=None, outputSchema={'properties': {'result': {'additionalProperties': True, 'title': 'Result', 'type': 'object'}}, 'required': ['result'], 'title': 'list_dividendsOutput', 'type': 'object'}),\n",
       " Tool(name='list_conditions', description='\\n    List conditions used by Polygon.io.\\n    ', inputSchema={'properties': {'asset_class': {'anyOf': [{'type': 'string'}, {'type': 'null'}], 'default': None, 'title': 'Asset Class'}, 'data_type': {'anyOf': [{'type': 'string'}, {'type': 'null'}], 'default': None, 'title': 'Data Type'}, 'id': {'anyOf': [{'type': 'integer'}, {'type': 'null'}], 'default': None, 'title': 'Id'}, 'sip': {'anyOf': [{'type': 'string'}, {'type': 'null'}], 'default': None, 'title': 'Sip'}, 'params': {'anyOf': [{'additionalProperties': True, 'type': 'object'}, {'type': 'null'}], 'default': None, 'title': 'Params'}}, 'title': 'list_conditionsArguments', 'type': 'object'}, annotations=None, outputSchema={'properties': {'result': {'additionalProperties': True, 'title': 'Result', 'type': 'object'}}, 'required': ['result'], 'title': 'list_conditionsOutput', 'type': 'object'}),\n",
       " Tool(name='get_exchanges', description='\\n    List exchanges known by Polygon.io.\\n    ', inputSchema={'properties': {'asset_class': {'anyOf': [{'type': 'string'}, {'type': 'null'}], 'default': None, 'title': 'Asset Class'}, 'locale': {'anyOf': [{'type': 'string'}, {'type': 'null'}], 'default': None, 'title': 'Locale'}, 'params': {'anyOf': [{'additionalProperties': True, 'type': 'object'}, {'type': 'null'}], 'default': None, 'title': 'Params'}}, 'title': 'get_exchangesArguments', 'type': 'object'}, annotations=None, outputSchema={'properties': {'result': {'additionalProperties': True, 'title': 'Result', 'type': 'object'}}, 'required': ['result'], 'title': 'get_exchangesOutput', 'type': 'object'}),\n",
       " Tool(name='list_stock_financials', description='\\n    Get fundamental financial data for companies.\\n    ', inputSchema={'properties': {'ticker': {'anyOf': [{'type': 'string'}, {'type': 'null'}], 'default': None, 'title': 'Ticker'}, 'cik': {'anyOf': [{'type': 'string'}, {'type': 'null'}], 'default': None, 'title': 'Cik'}, 'company_name': {'anyOf': [{'type': 'string'}, {'type': 'null'}], 'default': None, 'title': 'Company Name'}, 'company_name_search': {'anyOf': [{'type': 'string'}, {'type': 'null'}], 'default': None, 'title': 'Company Name Search'}, 'sic': {'anyOf': [{'type': 'string'}, {'type': 'null'}], 'default': None, 'title': 'Sic'}, 'filing_date': {'anyOf': [{'type': 'string'}, {'format': 'date-time', 'type': 'string'}, {'format': 'date', 'type': 'string'}, {'type': 'null'}], 'default': None, 'title': 'Filing Date'}, 'filing_date_lt': {'anyOf': [{'type': 'string'}, {'format': 'date-time', 'type': 'string'}, {'format': 'date', 'type': 'string'}, {'type': 'null'}], 'default': None, 'title': 'Filing Date Lt'}, 'filing_date_lte': {'anyOf': [{'type': 'string'}, {'format': 'date-time', 'type': 'string'}, {'format': 'date', 'type': 'string'}, {'type': 'null'}], 'default': None, 'title': 'Filing Date Lte'}, 'filing_date_gt': {'anyOf': [{'type': 'string'}, {'format': 'date-time', 'type': 'string'}, {'format': 'date', 'type': 'string'}, {'type': 'null'}], 'default': None, 'title': 'Filing Date Gt'}, 'filing_date_gte': {'anyOf': [{'type': 'string'}, {'format': 'date-time', 'type': 'string'}, {'format': 'date', 'type': 'string'}, {'type': 'null'}], 'default': None, 'title': 'Filing Date Gte'}, 'period_of_report_date': {'anyOf': [{'type': 'string'}, {'format': 'date-time', 'type': 'string'}, {'format': 'date', 'type': 'string'}, {'type': 'null'}], 'default': None, 'title': 'Period Of Report Date'}, 'period_of_report_date_lt': {'anyOf': [{'type': 'string'}, {'format': 'date-time', 'type': 'string'}, {'format': 'date', 'type': 'string'}, {'type': 'null'}], 'default': None, 'title': 'Period Of Report Date Lt'}, 'period_of_report_date_lte': {'anyOf': [{'type': 'string'}, {'format': 'date-time', 'type': 'string'}, {'format': 'date', 'type': 'string'}, {'type': 'null'}], 'default': None, 'title': 'Period Of Report Date Lte'}, 'period_of_report_date_gt': {'anyOf': [{'type': 'string'}, {'format': 'date-time', 'type': 'string'}, {'format': 'date', 'type': 'string'}, {'type': 'null'}], 'default': None, 'title': 'Period Of Report Date Gt'}, 'period_of_report_date_gte': {'anyOf': [{'type': 'string'}, {'format': 'date-time', 'type': 'string'}, {'format': 'date', 'type': 'string'}, {'type': 'null'}], 'default': None, 'title': 'Period Of Report Date Gte'}, 'timeframe': {'anyOf': [{'type': 'string'}, {'type': 'null'}], 'default': None, 'title': 'Timeframe'}, 'include_sources': {'anyOf': [{'type': 'boolean'}, {'type': 'null'}], 'default': None, 'title': 'Include Sources'}, 'limit': {'anyOf': [{'type': 'integer'}, {'type': 'null'}], 'default': None, 'title': 'Limit'}, 'sort': {'anyOf': [{'type': 'string'}, {'type': 'null'}], 'default': None, 'title': 'Sort'}, 'order': {'anyOf': [{'type': 'string'}, {'type': 'null'}], 'default': None, 'title': 'Order'}, 'params': {'anyOf': [{'additionalProperties': True, 'type': 'object'}, {'type': 'null'}], 'default': None, 'title': 'Params'}}, 'title': 'list_stock_financialsArguments', 'type': 'object'}, annotations=None, outputSchema={'properties': {'result': {'additionalProperties': True, 'title': 'Result', 'type': 'object'}}, 'required': ['result'], 'title': 'list_stock_financialsOutput', 'type': 'object'})]"
      ]
     },
     "execution_count": 24,
     "metadata": {},
     "output_type": "execute_result"
    }
   ],
   "source": [
    "\n",
    "params = {\"command\": \"uvx\",\n",
    "          \"args\": [\"--from\", \"git+https://github.com/polygon-io/mcp_polygon@v0.1.0\", \"mcp_polygon\"],\n",
    "          \"env\": {\"POLYGON_API_KEY\": polygon_api_key}\n",
    "          }\n",
    "async with MCPServerStdio(params=params) as server:\n",
    "    mcp_tools = await server.list_tools()\n",
    "mcp_tools\n"
   ]
  },
  {
   "cell_type": "markdown",
   "metadata": {},
   "source": [
    "### Wow that's a lot of tools!\n",
    "\n",
    "Let's try them out - hopefully the sheer number of tools doesn't overwhelm gpt-4o-mini!\n",
    "\n",
    "With the $29 monthly plan, we don't have access to some of the APIs, so I've needed to specify which APIs can be called.\n",
    "\n",
    "If you've splashed out on a bigger plan, feel free to remove my extra constraint.."
   ]
  },
  {
   "cell_type": "code",
   "execution_count": 26,
   "metadata": {},
   "outputs": [],
   "source": [
    "# instructions = \"You answer questions about the stock market.\"\n",
    "# request = \"What's the share price of Apple? Use your get_snapshot_ticker tool to get the latest price.\"\n",
    "# model = gemini_model\n",
    "\n",
    "# async with MCPServerStdio(params=params) as mcp_server:\n",
    "#     agent = Agent(name=\"agent\", instructions=instructions, model=model, mcp_servers=[mcp_server])\n",
    "#     with trace(\"conversation\"):\n",
    "#         result = await Runner.run(agent, request)\n",
    "#     display(Markdown(result.final_output))"
   ]
  },
  {
   "cell_type": "markdown",
   "metadata": {},
   "source": [
    "## Setting up your .env file\n",
    "\n",
    "If you do decide to have a paid plan, please add this to your .env file to indicate:\n",
    "\n",
    "`POLYGON_PLAN=paid`\n",
    "\n",
    "And if you decide to go all the way for the realtime API, then please do:\n",
    "\n",
    "`POLYGON_PLAN=realtime`"
   ]
  },
  {
   "cell_type": "code",
   "execution_count": 27,
   "metadata": {},
   "outputs": [
    {
     "name": "stdout",
     "output_type": "stream",
     "text": [
      "According to your .env file, you've chosen to subscribe to the free Polygon plan, so the code will look at EOD prices\n"
     ]
    }
   ],
   "source": [
    "load_dotenv(override=True)\n",
    "\n",
    "polygon_plan = os.getenv(\"POLYGON_PLAN\")\n",
    "is_paid_polygon = polygon_plan == \"paid\"\n",
    "is_realtime_polygon = polygon_plan == \"realtime\"\n",
    "\n",
    "if is_paid_polygon:\n",
    "    print(\"You've chosen to subscribe to the paid Polygon plan, so the code will look at prices on a 15 min delay\")\n",
    "elif is_realtime_polygon:\n",
    "    print(\"Wowzer - you've chosen to subscribe to the realtime Polygon plan, so the code will look at realtime prices\")\n",
    "else:\n",
    "    print(\"According to your .env file, you've chosen to subscribe to the free Polygon plan, so the code will look at EOD prices\")"
   ]
  },
  {
   "cell_type": "markdown",
   "metadata": {},
   "source": [
    "## And that's it for today!\n",
    "\n",
    "I've removed the part of this lab that uses the \"Financial Datasets\" mcp server, because it's inferior - more expensive with fewer APIs.\n",
    "\n",
    "And this way we get to use the same provider for Free and Paid APIs.\n",
    "\n",
    "But if you want to see the code, just look in the git history for a prior version."
   ]
  },
  {
   "cell_type": "markdown",
   "metadata": {},
   "source": [
    "<table style=\"margin: 0; text-align: left; width:100%\">\n",
    "    <tr>\n",
    "        <td style=\"width: 150px; height: 150px; vertical-align: middle;\">\n",
    "            <img src=\"../assets/exercise.png\" width=\"150\" height=\"150\" style=\"display: block;\" />\n",
    "        </td>\n",
    "        <td>\n",
    "            <h2 style=\"color:#ff7800;\">Exercises</h2>\n",
    "            <span style=\"color:#ff7800;\">Explore MCP server marketplaces and integrate your own, using all 3 approaches.\n",
    "            </span>\n",
    "        </td>\n",
    "    </tr>\n",
    "</table>"
   ]
  }
 ],
 "metadata": {
  "kernelspec": {
   "display_name": ".venv",
   "language": "python",
   "name": "python3"
  },
  "language_info": {
   "codemirror_mode": {
    "name": "ipython",
    "version": 3
   },
   "file_extension": ".py",
   "mimetype": "text/x-python",
   "name": "python",
   "nbconvert_exporter": "python",
   "pygments_lexer": "ipython3",
   "version": "3.12.11"
  }
 },
 "nbformat": 4,
 "nbformat_minor": 2
}
