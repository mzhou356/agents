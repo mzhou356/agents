{
  "cells": [
    {
      "cell_type": "markdown",
      "metadata": {},
      "source": [
        "## Week 2 Day 2\n",
        "\n",
        "Our first Agentic Framework project!!\n",
        "\n",
        "Prepare yourself for something ridiculously easy.\n",
        "\n",
        "We're going to build a simple Agent system for generating cold sales outreach emails:\n",
        "1. Agent workflow\n",
        "2. Use of tools to call functions\n",
        "3. Agent collaboration via Tools and Handoffs"
      ]
    },
    {
      "cell_type": "markdown",
      "metadata": {},
      "source": [
        "## Before we start - some setup:\n",
        "\n",
        "\n",
        "Please visit Sendgrid at: https://sendgrid.com/\n",
        "\n",
        "(Sendgrid is a Twilio company for sending emails.)\n",
        "\n",
        "If SendGrid gives you problems, see the alternative implementation using \"Resend Email\" in community_contributions/2_lab2_with_resend_email\n",
        "\n",
        "Please set up an account - it's free! (at least, for me, right now).\n",
        "\n",
        "Once you've created an account, click on:\n",
        "\n",
        "Settings (left sidebar) >> API Keys >> Create API Key (button on top right)\n",
        "\n",
        "Copy the key to the clipboard, then add a new line to your .env file:\n",
        "\n",
        "`SENDGRID_API_KEY=xxxx`\n",
        "\n",
        "And also, within SendGrid, go to:\n",
        "\n",
        "Settings (left sidebar) >> Sender Authentication >> \"Verify a Single Sender\"  \n",
        "and verify that your own email address is a real email address, so that SendGrid can send emails for you.\n"
      ]
    },
    {
      "cell_type": "code",
      "execution_count": 1,
      "metadata": {},
      "outputs": [],
      "source": [
        "from dotenv import load_dotenv\n",
        "from agents import Agent, Runner, trace, function_tool\n",
        "from agents.extensions.models.litellm_model import LitellmModel\n",
        "from openai.types.responses import ResponseTextDeltaEvent\n",
        "from typing import Dict\n",
        "import sendgrid\n",
        "import os\n",
        "from sendgrid.helpers.mail import Mail, Email, To, Content\n",
        "import asyncio\n",
        "\n"
      ]
    },
    {
      "cell_type": "code",
      "execution_count": 10,
      "metadata": {},
      "outputs": [
        {
          "data": {
            "text/plain": [
              "True"
            ]
          },
          "execution_count": 10,
          "metadata": {},
          "output_type": "execute_result"
        }
      ],
      "source": [
        "load_dotenv(override=True)"
      ]
    },
    {
      "cell_type": "code",
      "execution_count": 3,
      "metadata": {},
      "outputs": [],
      "source": [
        "google_api_key = os.environ[\"gemini_api_key\"]"
      ]
    },
    {
      "cell_type": "markdown",
      "metadata": {},
      "source": [
        "## Step 1: Agent workflow"
      ]
    },
    {
      "cell_type": "code",
      "execution_count": 4,
      "metadata": {},
      "outputs": [],
      "source": [
        "instructions1 = \"You are a sales agent working for ComplAI, \\\n",
        "a company that provides a SaaS tool for ensuring SOC2 compliance and preparing for audits, powered by AI. \\\n",
        "You write professional, serious cold emails.\"\n",
        "\n",
        "instructions2 = \"You are a humorous, engaging sales agent working for ComplAI, \\\n",
        "a company that provides a SaaS tool for ensuring SOC2 compliance and preparing for audits, powered by AI. \\\n",
        "You write witty, engaging cold emails that are likely to get a response.\"\n",
        "\n",
        "instructions3 = \"You are a busy sales agent working for ComplAI, \\\n",
        "a company that provides a SaaS tool for ensuring SOC2 compliance and preparing for audits, powered by AI. \\\n",
        "You write concise, to the point cold emails.\""
      ]
    },
    {
      "cell_type": "code",
      "execution_count": 5,
      "metadata": {},
      "outputs": [],
      "source": [
        "sales_agent1 = Agent(\n",
        "        name=\"Professional Sales Agent\",\n",
        "        instructions=instructions1,\n",
        "        model=LitellmModel(model=\"gemini/gemini-2.0-flash\", api_key=google_api_key)\n",
        ")\n",
        "\n",
        "sales_agent2 = Agent(\n",
        "        name=\"Engaging Sales Agent\",\n",
        "        instructions=instructions2,\n",
        "        model=LitellmModel(model=\"gemini/gemini-2.0-flash\", api_key=google_api_key)\n",
        ")\n",
        "\n",
        "sales_agent3 = Agent(\n",
        "        name=\"Busy Sales Agent\",\n",
        "        instructions=instructions3,\n",
        "        model=LitellmModel(model=\"gemini/gemini-2.0-flash\", api_key=google_api_key)\n",
        ")"
      ]
    },
    {
      "cell_type": "code",
      "execution_count": 12,
      "metadata": {},
      "outputs": [],
      "source": [
        "from agents import set_tracing_export_api_key\n",
        "set_tracing_export_api_key(os.environ[\"open_api_key\"])"
      ]
    },
    {
      "cell_type": "code",
      "execution_count": 13,
      "metadata": {},
      "outputs": [
        {
          "name": "stdout",
          "output_type": "stream",
          "text": [
            "Subject: Streamlining SOC2 Compliance with AI - [Your Company Name]\n",
            "\n",
            "Dear [Contact Person Name],\n",
            "\n",
            "My name is [Your Name] and I'm a Sales Agent at ComplAI. We're helping companies like yours achieve and maintain SOC2 compliance faster and more efficiently through the power of AI.\n",
            "\n",
            "I understand that preparing for and undergoing a SOC2 audit can be a resource-intensive and complex process. Many companies struggle with:\n",
            "\n",
            "*   **Document management and organization:** Ensuring all required documentation is readily available and properly formatted.\n",
            "*   **Control implementation and monitoring:** Continuously monitoring and enforcing the necessary security controls.\n",
            "*   **Staying up-to-date with evolving compliance requirements:** Keeping abreast of changes in SOC2 standards.\n",
            "\n",
            "ComplAI addresses these challenges by automating key aspects of the SOC2 compliance process. Our SaaS platform leverages AI to:\n",
            "\n",
            "*   **Automatically identify gaps in your security posture and suggest remediation steps.**\n",
            "*   **Centralize your compliance documentation and streamline audit preparation.**\n",
            "*   **Continuously monitor your security controls and provide real-time insights.**\n",
            "\n",
            "We believe that ComplAI can significantly reduce the time, cost, and effort associated with SOC2 compliance, allowing you to focus on your core business.\n",
            "\n",
            "Would you be open to a brief 15-minute conversation to discuss your current SOC2 compliance efforts and how ComplAI can help?\n",
            "\n",
            "Thank you for your time and consideration.\n",
            "\n",
            "Sincerely,\n",
            "\n",
            "[Your Name]\n",
            "\n",
            "Sales Agent\n",
            "\n",
            "ComplAI\n",
            "\n",
            "[Your Website]\n",
            "\n",
            "[Your Phone Number]\n"
          ]
        }
      ],
      "source": [
        "\n",
        "result = Runner.run_streamed(sales_agent1, input=\"Write a cold sales email\")\n",
        "async for event in result.stream_events():\n",
        "    if event.type == \"raw_response_event\" and isinstance(event.data, ResponseTextDeltaEvent):\n",
        "        print(event.data.delta, end=\"\", flush=True)"
      ]
    },
    {
      "cell_type": "code",
      "execution_count": 14,
      "metadata": {},
      "outputs": [
        {
          "name": "stdout",
          "output_type": "stream",
          "text": [
            "Subject: Streamline SOC 2 Compliance & Reduce Audit Prep Time with ComplAI\n",
            "\n",
            "Dear [Contact Name],\n",
            "\n",
            "In today's increasingly regulated environment, achieving and maintaining SOC 2 compliance is crucial for building trust with your customers and partners. I understand that the process can be complex, time-consuming, and resource-intensive, particularly for companies like [Company Name] in the [Industry] sector.\n",
            "\n",
            "That's why I'm reaching out from ComplAI. We provide a SaaS solution leveraging AI to dramatically simplify and expedite the entire SOC 2 compliance journey. Our platform helps you:\n",
            "\n",
            "*   **Automate evidence collection:** Eliminate manual processes and gather necessary documentation seamlessly.\n",
            "*   **Identify and remediate compliance gaps:** Proactively address potential issues before they become audit findings.\n",
            "*   **Prepare for audits with ease:** Generate reports and supporting documentation in minutes, saving valuable time and resources.\n",
            "*   **Maintain continuous compliance:** Ensure ongoing adherence to SOC 2 standards through automated monitoring and alerts.\n",
            "\n",
            "We've helped companies like [Competitor A] and [Competitor B] reduce their SOC 2 audit preparation time by [Quantifiable Result, e.g., 40%] and significantly lower their compliance costs.\n",
            "\n",
            "Would you be open to a brief 15-minute call to discuss how ComplAI can help [Company Name] streamline its SOC 2 compliance efforts and prepare for audits with confidence?\n",
            "\n",
            "Thank you for your time and consideration.\n",
            "\n",
            "Sincerely,\n",
            "\n",
            "[Your Name]\n",
            "\n",
            "[Your Title]\n",
            "\n",
            "ComplAI\n",
            "\n",
            "[Your Website]\n",
            "\n",
            "[Your Phone Number]\n",
            "\n",
            "\n",
            "\n",
            "Subject: SOC 2 Compliance Got You Feeling Like a Hamster on a Wheel? (We Can Help!)\n",
            "\n",
            "Hey [Prospect Name],\n",
            "\n",
            "Let's be honest, the words \"SOC 2 compliance\" probably evoke the same feeling as discovering a new grey hair – a mix of dread and resignation. Are you currently buried under a mountain of spreadsheets, wondering if you'll ever see daylight again? Are you dreaming of control objectives and audit trails in your sleep? \n",
            "\n",
            "If so, you're not alone! (Misery loves company, right?)\n",
            "\n",
            "But here's the good news: at ComplAI, we believe SOC 2 compliance shouldn't feel like a medieval torture device. Our AI-powered platform helps you automate tasks, streamline documentation, and, dare I say, *enjoy* the compliance process (okay, maybe not *enjoy*, but at least tolerate it!).\n",
            "\n",
            "Think of us as your compliance co-pilot, the one who actually knows how to navigate the turbulent airspace of security and privacy regulations. We'll help you:\n",
            "\n",
            "*   **Automate evidence collection:** Say goodbye to manual screenshots and hello to blissful automation.\n",
            "*   **Identify gaps and prioritize remediation:** We'll point out the weaknesses in your armor so you can patch them up before the auditors come knocking.\n",
            "*   **Prepare for audits with confidence:** Walk into your audit feeling like a seasoned pro, not a deer in headlights.\n",
            "\n",
            "Seriously, we can save you time, money, and a whole lot of sanity.\n",
            "\n",
            "Would you be open to a quick 15-minute chat to see if ComplAI could be the superhero your compliance efforts desperately need? \n",
            "\n",
            "No pressure, of course. But hey, wouldn't you rather spend your time innovating instead of wrestling with SOC 2?\n",
            "\n",
            "Best,\n",
            "\n",
            "[Your Name]\n",
            "\n",
            "The ComplAI Compliance Crusader\n",
            "\n",
            "P.S. For a limited time, we're offering a free compliance assessment. Think of it as a peek behind the curtain of SOC 2 success! Let me know if you're interested. (And yes, it's actually free, no strings attached. We're not THAT evil.)\n",
            "\n",
            "\n",
            "\n",
            "Subject: SOC2 Compliance Made Easy with ComplAI\n",
            "\n",
            "Hi [Name],\n",
            "\n",
            "Struggling with SOC2 compliance?\n",
            "\n",
            "ComplAI automates the process, reduces audit prep time, and keeps you compliant with AI-powered efficiency.\n",
            "\n",
            "Interested in a quick demo?\n",
            "\n",
            "Best,\n",
            "\n",
            "[Your Name]\n",
            "\n",
            "ComplAI\n",
            "\n",
            "\n",
            "\n"
          ]
        }
      ],
      "source": [
        "message = \"Write a cold sales email\"\n",
        "\n",
        "with trace(\"Parallel cold emails\"):\n",
        "    results = await asyncio.gather(\n",
        "        Runner.run(sales_agent1, message),\n",
        "        Runner.run(sales_agent2, message),\n",
        "        Runner.run(sales_agent3, message),\n",
        "    )\n",
        "\n",
        "outputs = [result.final_output for result in results]\n",
        "\n",
        "for output in outputs:\n",
        "    print(output + \"\\n\\n\")\n"
      ]
    },
    {
      "cell_type": "code",
      "execution_count": 15,
      "metadata": {},
      "outputs": [],
      "source": [
        "sales_picker = Agent(\n",
        "    name=\"sales_picker\",\n",
        "    instructions=\"You pick the best cold sales email from the given options. \\\n",
        "Imagine you are a customer and pick the one you are most likely to respond to. \\\n",
        "Do not give an explanation; reply with the selected email only.\",\n",
        "    model=LitellmModel(model=\"gemini/gemini-2.0-flash\", api_key=google_api_key)\n",
        ")"
      ]
    },
    {
      "cell_type": "code",
      "execution_count": 16,
      "metadata": {},
      "outputs": [
        {
          "name": "stdout",
          "output_type": "stream",
          "text": [
            "Best sales email:\n",
            "Subject: SOC2 Compliance Got You Feeling Like You're Wrestling an Octopus? 🐙 (We Can Help!)\n",
            "\n",
            "Hey [Prospect Name],\n",
            "\n",
            "Let's be honest, SOC2 compliance can feel like trying to herd cats while juggling flaming torches. One wrong move, and BAM! You're knee-deep in paperwork, auditor questions, and enough stress to age you prematurely. (And nobody wants that!)\n",
            "\n",
            "I'm [Your Name] from ComplAI, and we're on a mission to make SOC2 compliance less… well, soul-crushing.\n",
            "\n",
            "Imagine a world where AI automates your evidence collection, identifies compliance gaps *before* they become problems, and practically writes your audit reports for you. Sounds too good to be true? It's not! It's ComplAI!\n",
            "\n",
            "**We help companies like yours:**\n",
            "\n",
            "*   **Stop drowning in spreadsheets:** Automate the tedious stuff.\n",
            "*   **Predict audit outcomes:** Know where you stand *before* the auditor walks in.\n",
            "*   **Save time and money:** Because time is money, and spreadsheets are... well, just spreadsheets.\n",
            "\n",
            "So, are you ready to trade in the stress and chaos for streamlined compliance and a good night's sleep?\n",
            "\n",
            "How about a quick 15-minute chat to see if ComplAI is the right fit for you? I promise, no hard selling, just good conversation (and maybe a joke or two).\n",
            "\n",
            "Book a slot here: [Link to Calendar]\n",
            "\n",
            "If you're happy wrestling that octopus on your own, no worries! But if you'd rather kick back and let AI do the heavy lifting, I'm your guy/gal.\n",
            "\n",
            "Cheers,\n",
            "\n",
            "[Your Name]\n",
            "\n",
            "Chief Compliance Comedian (and Sales Agent) at ComplAI\n",
            "[Your Website]\n",
            "[Your Phone Number (Optional)]\n",
            "\n"
          ]
        }
      ],
      "source": [
        "message = \"Write a cold sales email\"\n",
        "\n",
        "with trace(\"Selection from sales people\"):\n",
        "    results = await asyncio.gather(\n",
        "        Runner.run(sales_agent1, message),\n",
        "        Runner.run(sales_agent2, message),\n",
        "        Runner.run(sales_agent3, message),\n",
        "    )\n",
        "    outputs = [result.final_output for result in results]\n",
        "\n",
        "    emails = \"Cold sales emails:\\n\\n\".join(outputs)\n",
        "\n",
        "    best = await Runner.run(sales_picker, emails)\n",
        "\n",
        "    print(f\"Best sales email:\\n{best.final_output}\")\n"
      ]
    },
    {
      "cell_type": "markdown",
      "metadata": {},
      "source": [
        "Now go and check out the trace:\n",
        "\n",
        "https://platform.openai.com/traces"
      ]
    },
    {
      "cell_type": "markdown",
      "metadata": {},
      "source": [
        "## Part 2: use of tools\n",
        "\n",
        "Now we will add a tool to the mix.\n",
        "\n",
        "Remember all that json boilerplate and the `handle_tool_calls()` function with the if logic.."
      ]
    },
    {
      "cell_type": "code",
      "execution_count": 17,
      "metadata": {},
      "outputs": [],
      "source": [
        "sales_agent1 = Agent(\n",
        "        name=\"Professional Sales Agent\",\n",
        "        instructions=instructions1,\n",
        "        model=LitellmModel(model=\"gemini/gemini-2.0-flash\", api_key=google_api_key)\n",
        ")\n",
        "\n",
        "sales_agent2 = Agent(\n",
        "        name=\"Engaging Sales Agent\",\n",
        "        instructions=instructions2,\n",
        "        model=LitellmModel(model=\"gemini/gemini-2.0-flash\", api_key=google_api_key)\n",
        ")\n",
        "\n",
        "sales_agent3 = Agent(\n",
        "        name=\"Busy Sales Agent\",\n",
        "        instructions=instructions3,\n",
        "        model=LitellmModel(model=\"gemini/gemini-2.0-flash\", api_key=google_api_key)\n",
        ")"
      ]
    },
    {
      "cell_type": "code",
      "execution_count": 19,
      "metadata": {},
      "outputs": [
        {
          "data": {
            "text/plain": [
              "[]"
            ]
          },
          "execution_count": 19,
          "metadata": {},
          "output_type": "execute_result"
        }
      ],
      "source": [
        "sales_agent1.tools"
      ]
    },
    {
      "cell_type": "markdown",
      "metadata": {},
      "source": [
        "## Steps 2 and 3: Tools and Agent interactions\n",
        "\n",
        "Remember all that boilerplate json?\n",
        "\n",
        "Simply wrap your function with the decorator `@function_tool`"
      ]
    },
    {
      "cell_type": "code",
      "execution_count": 33,
      "metadata": {},
      "outputs": [],
      "source": [
        "@function_tool\n",
        "def send_email(body: str):\n",
        "    \"\"\" Send out an email with the given body to all sales prospects \"\"\"\n",
        "    sg = sendgrid.SendGridAPIClient(api_key=os.environ.get('SENDGRID_API_KEY'))\n",
        "    from_email = Email(\"mindy-reminder-no-reply@jdossett.dev\")  # Change to your verified sender\n",
        "    to_email = To(\"white6dove@gmail.com\")  # Change to your recipient\n",
        "    content = Content(\"text/plain\", body)\n",
        "    mail = Mail(from_email, to_email, \"Sales email\", content).get()\n",
        "    response = sg.client.mail.send.post(request_body=mail)\n",
        "    print(response.status_code)\n",
        "    print(response.text)\n",
        "    return {\"status\": \"success\"}"
      ]
    },
    {
      "cell_type": "markdown",
      "metadata": {},
      "source": [
        "### This has automatically been converted into a tool, with the boilerplate json created"
      ]
    },
    {
      "cell_type": "code",
      "execution_count": 23,
      "metadata": {},
      "outputs": [
        {
          "data": {
            "text/plain": [
              "FunctionTool(name='send_email', description='Send out an email with the given body to all sales prospects', params_json_schema={'properties': {'body': {'title': 'Body', 'type': 'string'}}, 'required': ['body'], 'title': 'send_email_args', 'type': 'object', 'additionalProperties': False}, on_invoke_tool=<function function_tool.<locals>._create_function_tool.<locals>._on_invoke_tool at 0x116e37560>, strict_json_schema=True, is_enabled=True)"
            ]
          },
          "execution_count": 23,
          "metadata": {},
          "output_type": "execute_result"
        }
      ],
      "source": [
        "# Let's look at it\n",
        "send_email"
      ]
    },
    {
      "cell_type": "markdown",
      "metadata": {},
      "source": [
        "### And you can also convert an Agent into a tool"
      ]
    },
    {
      "cell_type": "code",
      "execution_count": 24,
      "metadata": {},
      "outputs": [
        {
          "data": {
            "text/plain": [
              "FunctionTool(name='sales_agent1', description='Write a cold sales email', params_json_schema={'properties': {'input': {'title': 'Input', 'type': 'string'}}, 'required': ['input'], 'title': 'sales_agent1_args', 'type': 'object', 'additionalProperties': False}, on_invoke_tool=<function function_tool.<locals>._create_function_tool.<locals>._on_invoke_tool at 0x1315fa2a0>, strict_json_schema=True, is_enabled=True)"
            ]
          },
          "execution_count": 24,
          "metadata": {},
          "output_type": "execute_result"
        }
      ],
      "source": [
        "tool1 = sales_agent1.as_tool(tool_name=\"sales_agent1\", tool_description=\"Write a cold sales email\")\n",
        "tool1"
      ]
    },
    {
      "cell_type": "code",
      "execution_count": 25,
      "metadata": {},
      "outputs": [
        {
          "data": {
            "text/plain": [
              "[]"
            ]
          },
          "execution_count": 25,
          "metadata": {},
          "output_type": "execute_result"
        }
      ],
      "source": [
        "sales_agent1.tools"
      ]
    },
    {
      "cell_type": "markdown",
      "metadata": {},
      "source": [
        "### So now we can gather all the tools together:\n",
        "\n",
        "A tool for each of our 3 email-writing agents\n",
        "\n",
        "And a tool for our function to send emails"
      ]
    },
    {
      "cell_type": "code",
      "execution_count": 26,
      "metadata": {},
      "outputs": [
        {
          "data": {
            "text/plain": [
              "[FunctionTool(name='sales_agent1', description='Write a cold sales email', params_json_schema={'properties': {'input': {'title': 'Input', 'type': 'string'}}, 'required': ['input'], 'title': 'sales_agent1_args', 'type': 'object', 'additionalProperties': False}, on_invoke_tool=<function function_tool.<locals>._create_function_tool.<locals>._on_invoke_tool at 0x1315f9da0>, strict_json_schema=True, is_enabled=True),\n",
              " FunctionTool(name='sales_agent2', description='Write a cold sales email', params_json_schema={'properties': {'input': {'title': 'Input', 'type': 'string'}}, 'required': ['input'], 'title': 'sales_agent2_args', 'type': 'object', 'additionalProperties': False}, on_invoke_tool=<function function_tool.<locals>._create_function_tool.<locals>._on_invoke_tool at 0x1315fa840>, strict_json_schema=True, is_enabled=True),\n",
              " FunctionTool(name='sales_agent3', description='Write a cold sales email', params_json_schema={'properties': {'input': {'title': 'Input', 'type': 'string'}}, 'required': ['input'], 'title': 'sales_agent3_args', 'type': 'object', 'additionalProperties': False}, on_invoke_tool=<function function_tool.<locals>._create_function_tool.<locals>._on_invoke_tool at 0x11217e7a0>, strict_json_schema=True, is_enabled=True),\n",
              " FunctionTool(name='send_email', description='Send out an email with the given body to all sales prospects', params_json_schema={'properties': {'body': {'title': 'Body', 'type': 'string'}}, 'required': ['body'], 'title': 'send_email_args', 'type': 'object', 'additionalProperties': False}, on_invoke_tool=<function function_tool.<locals>._create_function_tool.<locals>._on_invoke_tool at 0x116e37560>, strict_json_schema=True, is_enabled=True)]"
            ]
          },
          "execution_count": 26,
          "metadata": {},
          "output_type": "execute_result"
        }
      ],
      "source": [
        "description = \"Write a cold sales email\"\n",
        "\n",
        "tool1 = sales_agent1.as_tool(tool_name=\"sales_agent1\", tool_description=description)\n",
        "tool2 = sales_agent2.as_tool(tool_name=\"sales_agent2\", tool_description=description)\n",
        "tool3 = sales_agent3.as_tool(tool_name=\"sales_agent3\", tool_description=description)\n",
        "\n",
        "tools = [tool1, tool2, tool3, send_email]\n",
        "\n",
        "tools"
      ]
    },
    {
      "cell_type": "markdown",
      "metadata": {},
      "source": [
        "## And now it's time for our Sales Manager - our planning agent"
      ]
    },
    {
      "cell_type": "code",
      "execution_count": 34,
      "metadata": {},
      "outputs": [],
      "source": [
        "instructions =\"You are a sales manager working for ComplAI. You use the tools given to you to generate cold sales emails. \\\n",
        "You never generate sales emails yourself; you always use the tools. \\\n",
        "You try all 3 sales_agent tools once before choosing the best one. \\\n",
        "You pick the single best email and use the send_email tool to send the best email (and only the best email) to the user.\"\n",
        "\n",
        "\n",
        "sales_manager = Agent(name=\"Sales Manager\", instructions=instructions, \n",
        "                      tools=tools, model=LitellmModel(model=\"gemini/gemini-2.0-flash\", api_key=google_api_key))\n",
        "\n",
        "message = \"Send a cold sales email addressed to 'Dear CEO'\"\n",
        "\n",
        "with trace(\"Sales manager\"):\n",
        "    result = await Runner.run(sales_manager, message)"
      ]
    },
    {
      "cell_type": "markdown",
      "metadata": {},
      "source": [
        "<table style=\"margin: 0; text-align: left; width:100%\">\n",
        "    <tr>\n",
        "        <td style=\"width: 150px; height: 150px; vertical-align: middle;\">\n",
        "            <img src=\"../assets/stop.png\" width=\"150\" height=\"150\" style=\"display: block;\" />\n",
        "        </td>\n",
        "        <td>\n",
        "            <h2 style=\"color:#ff7800;\">Wait - you didn't get an email??</h2>\n",
        "            <span style=\"color:#ff7800;\">With much thanks to student Chris S. for describing his issue and fixes. \n",
        "            If you don't receive an email after running the prior cell, here are some things to check: <br/>\n",
        "            First, check your Spam folder! Several students have missed that the emails arrived in Spam!<br/>Second, print(result) and see if you are receiving errors about SSL. \n",
        "            If you're receiving SSL errors, then please check out theses <a href=\"https://chatgpt.com/share/680620ec-3b30-8012-8c26-ca86693d0e3d\">networking tips</a> and see the note in the next cell. Also look at the trace in OpenAI, and investigate on the SendGrid website, to hunt for clues. Let me know if I can help!\n",
        "            </span>\n",
        "        </td>\n",
        "    </tr>\n",
        "</table>"
      ]
    },
    {
      "cell_type": "markdown",
      "metadata": {},
      "source": [
        "### And one more suggestion to send emails from student Oleksandr on Windows 11:\n",
        "\n",
        "If you are getting certificate SSL errors, then:  \n",
        "Run this in a terminal: `uv pip install --upgrade certifi`\n",
        "\n",
        "Then run this code:\n",
        "```python\n",
        "import certifi\n",
        "import os\n",
        "os.environ['SSL_CERT_FILE'] = certifi.where()\n",
        "```\n",
        "\n",
        "Thank you Oleksandr!"
      ]
    },
    {
      "cell_type": "markdown",
      "metadata": {},
      "source": [
        "## Remember to check the trace\n",
        "\n",
        "https://platform.openai.com/traces\n",
        "\n",
        "And then check your email!!\n"
      ]
    },
    {
      "cell_type": "markdown",
      "metadata": {},
      "source": [
        "### Handoffs represent a way an agent can delegate to an agent, passing control to it\n",
        "\n",
        "Handoffs and Agents-as-tools are similar:\n",
        "\n",
        "In both cases, an Agent can collaborate with another Agent\n",
        "\n",
        "With tools, control passes back\n",
        "\n",
        "With handoffs, control passes across\n",
        "\n"
      ]
    },
    {
      "cell_type": "code",
      "execution_count": 46,
      "metadata": {},
      "outputs": [],
      "source": [
        "\n",
        "subject_instructions = \"You can write a subject for a cold sales email. \\\n",
        "You are given a message and you need to write a subject for an email that is likely to get a response.\"\n",
        "\n",
        "html_instructions = \"You can convert a text email body to an HTML email body. \\\n",
        "You are given a text email body which might have some markdown \\\n",
        "and you need to convert it to an HTML email body with simple, clear, compelling layout and design.\"\n",
        "\n",
        "subject_writer = Agent(name=\"Email subject writer\", instructions=subject_instructions, \n",
        "                       model=LitellmModel(model=\"gemini/gemini-2.0-flash\", api_key=google_api_key))\n",
        "subject_tool = subject_writer.as_tool(tool_name=\"subject_writer\", tool_description=\"Write a subject for a cold sales email\")\n",
        "\n",
        "html_converter = Agent(name=\"HTML email body converter\", instructions=html_instructions, \n",
        "                       model=LitellmModel(model=\"gemini/gemini-2.0-flash\", api_key=google_api_key))\n",
        "html_tool = html_converter.as_tool(tool_name=\"html_converter\",tool_description=\"Convert a text email body to an HTML email body\")\n"
      ]
    },
    {
      "cell_type": "code",
      "execution_count": 47,
      "metadata": {},
      "outputs": [],
      "source": [
        "@function_tool\n",
        "def send_html_email(subject: str, html_body: str) -> Dict[str, str]:\n",
        "    \"\"\" Send out an email with the given subject and HTML body to all sales prospects \"\"\"\n",
        "    sg = sendgrid.SendGridAPIClient(api_key=os.environ.get('SENDGRID_API_KEY'))\n",
        "    from_email = Email(\"mindy-reminder-no-reply@jdossett.dev\")  # Change to your verified sender\n",
        "    to_email = To(\"white6dove@gmail.com\")  # Change to your recipient\n",
        "    content = Content(\"text/html\", html_body)\n",
        "    mail = Mail(from_email, to_email, subject, content).get()\n",
        "    sg.client.mail.send.post(request_body=mail)\n",
        "    return {\"status\": \"success\"}"
      ]
    },
    {
      "cell_type": "code",
      "execution_count": 48,
      "metadata": {},
      "outputs": [],
      "source": [
        "tools = [subject_tool, html_tool, send_html_email]"
      ]
    },
    {
      "cell_type": "code",
      "execution_count": 49,
      "metadata": {},
      "outputs": [
        {
          "data": {
            "text/plain": [
              "[FunctionTool(name='subject_writer', description='Write a subject for a cold sales email', params_json_schema={'properties': {'input': {'title': 'Input', 'type': 'string'}}, 'required': ['input'], 'title': 'subject_writer_args', 'type': 'object', 'additionalProperties': False}, on_invoke_tool=<function function_tool.<locals>._create_function_tool.<locals>._on_invoke_tool at 0x1316e0c20>, strict_json_schema=True, is_enabled=True),\n",
              " FunctionTool(name='html_converter', description='Convert a text email body to an HTML email body', params_json_schema={'properties': {'input': {'title': 'Input', 'type': 'string'}}, 'required': ['input'], 'title': 'html_converter_args', 'type': 'object', 'additionalProperties': False}, on_invoke_tool=<function function_tool.<locals>._create_function_tool.<locals>._on_invoke_tool at 0x1316e14e0>, strict_json_schema=True, is_enabled=True),\n",
              " FunctionTool(name='send_html_email', description='Send out an email with the given subject and HTML body to all sales prospects', params_json_schema={'properties': {'subject': {'title': 'Subject', 'type': 'string'}, 'html_body': {'title': 'Html Body', 'type': 'string'}}, 'required': ['subject', 'html_body'], 'title': 'send_html_email_args', 'type': 'object', 'additionalProperties': False}, on_invoke_tool=<function function_tool.<locals>._create_function_tool.<locals>._on_invoke_tool at 0x1315f8fe0>, strict_json_schema=True, is_enabled=True)]"
            ]
          },
          "execution_count": 49,
          "metadata": {},
          "output_type": "execute_result"
        }
      ],
      "source": [
        "tools"
      ]
    },
    {
      "cell_type": "code",
      "execution_count": 51,
      "metadata": {},
      "outputs": [],
      "source": [
        "instructions =\"You are an email formatter and sender. You receive the body of an email to be sent. \\\n",
        "You first use the subject_writer tool to write a subject for the email, then use the html_converter tool to convert the body to HTML. \\\n",
        "Finally, you use the send_html_email tool to send the email with the subject and HTML body.\"\n",
        "\n",
        "\n",
        "emailer_agent = Agent(\n",
        "    name=\"Email Manager\",\n",
        "    instructions=instructions,\n",
        "    tools=tools,\n",
        "    model=LitellmModel(model=\"gemini/gemini-2.0-flash\", api_key=google_api_key),\n",
        "    handoff_description=\"Convert an email to HTML and send it\"\n",
        "    )\n"
      ]
    },
    {
      "cell_type": "markdown",
      "metadata": {},
      "source": [
        "### Now we have 3 tools and 1 handoff"
      ]
    },
    {
      "cell_type": "code",
      "execution_count": 52,
      "metadata": {},
      "outputs": [
        {
          "name": "stdout",
          "output_type": "stream",
          "text": [
            "[FunctionTool(name='sales_agent1', description='Write a cold sales email', params_json_schema={'properties': {'input': {'title': 'Input', 'type': 'string'}}, 'required': ['input'], 'title': 'sales_agent1_args', 'type': 'object'}, on_invoke_tool=<function function_tool.<locals>._create_function_tool.<locals>._on_invoke_tool at 0x1315f9da0>, strict_json_schema=True, is_enabled=True), FunctionTool(name='sales_agent2', description='Write a cold sales email', params_json_schema={'properties': {'input': {'title': 'Input', 'type': 'string'}}, 'required': ['input'], 'title': 'sales_agent2_args', 'type': 'object'}, on_invoke_tool=<function function_tool.<locals>._create_function_tool.<locals>._on_invoke_tool at 0x1315fa840>, strict_json_schema=True, is_enabled=True), FunctionTool(name='sales_agent3', description='Write a cold sales email', params_json_schema={'properties': {'input': {'title': 'Input', 'type': 'string'}}, 'required': ['input'], 'title': 'sales_agent3_args', 'type': 'object'}, on_invoke_tool=<function function_tool.<locals>._create_function_tool.<locals>._on_invoke_tool at 0x11217e7a0>, strict_json_schema=True, is_enabled=True)]\n",
            "[Agent(name='Email Manager', instructions='You are an email formatter and sender. You receive the body of an email to be sent. You first use the subject_writer tool to write a subject for the email, then use the html_converter tool to convert the body to HTML. Finally, you use the send_html_email tool to send the email with the subject and HTML body.', handoff_description='Convert an email to HTML and send it', handoffs=[], model=<agents.extensions.models.litellm_model.LitellmModel object at 0x1302234a0>, model_settings=ModelSettings(temperature=None, top_p=None, frequency_penalty=None, presence_penalty=None, tool_choice=None, parallel_tool_calls=None, truncation=None, max_tokens=None, reasoning=None, metadata=None, store=None, include_usage=None, extra_query=None, extra_body=None, extra_headers=None), tools=[FunctionTool(name='subject_writer', description='Write a subject for a cold sales email', params_json_schema={'properties': {'input': {'title': 'Input', 'type': 'string'}}, 'required': ['input'], 'title': 'subject_writer_args', 'type': 'object', 'additionalProperties': False}, on_invoke_tool=<function function_tool.<locals>._create_function_tool.<locals>._on_invoke_tool at 0x1316e0c20>, strict_json_schema=True, is_enabled=True), FunctionTool(name='html_converter', description='Convert a text email body to an HTML email body', params_json_schema={'properties': {'input': {'title': 'Input', 'type': 'string'}}, 'required': ['input'], 'title': 'html_converter_args', 'type': 'object', 'additionalProperties': False}, on_invoke_tool=<function function_tool.<locals>._create_function_tool.<locals>._on_invoke_tool at 0x1316e14e0>, strict_json_schema=True, is_enabled=True), FunctionTool(name='send_html_email', description='Send out an email with the given subject and HTML body to all sales prospects', params_json_schema={'properties': {'subject': {'title': 'Subject', 'type': 'string'}, 'html_body': {'title': 'Html Body', 'type': 'string'}}, 'required': ['subject', 'html_body'], 'title': 'send_html_email_args', 'type': 'object', 'additionalProperties': False}, on_invoke_tool=<function function_tool.<locals>._create_function_tool.<locals>._on_invoke_tool at 0x1315f8fe0>, strict_json_schema=True, is_enabled=True)], mcp_servers=[], mcp_config={}, input_guardrails=[], output_guardrails=[], output_type=None, hooks=None, tool_use_behavior='run_llm_again', reset_tool_choice=True)]\n"
          ]
        }
      ],
      "source": [
        "tools = [tool1, tool2, tool3]\n",
        "handoffs = [emailer_agent]\n",
        "print(tools)\n",
        "print(handoffs)"
      ]
    },
    {
      "cell_type": "code",
      "execution_count": 53,
      "metadata": {},
      "outputs": [],
      "source": [
        "sales_manager_instructions = \"You are a sales manager working for ComplAI. You use the tools given to you to generate cold sales emails. \\\n",
        "You never generate sales emails yourself; you always use the tools. \\\n",
        "You try all 3 sales agent tools at least once before choosing the best one. \\\n",
        "You can use the tools multiple times if you're not satisfied with the results from the first try. \\\n",
        "You select the single best email using your own judgement of which email will be most effective. \\\n",
        "After picking the email, you handoff to the Email Manager agent to format and send the email.\"\n",
        "\n",
        "\n",
        "sales_manager = Agent(\n",
        "    name=\"Sales Manager\",\n",
        "    instructions=sales_manager_instructions,\n",
        "    tools=tools,\n",
        "    handoffs=handoffs,\n",
        "    model=LitellmModel(model=\"gemini/gemini-2.0-flash\", api_key=google_api_key))\n",
        "\n",
        "message = \"Send out a cold sales email addressed to Dear CEO from Alice\"\n",
        "\n",
        "with trace(\"Automated SDR\"):\n",
        "    result = await Runner.run(sales_manager, message)"
      ]
    },
    {
      "cell_type": "markdown",
      "metadata": {},
      "source": [
        "### Remember to check the trace\n",
        "\n",
        "https://platform.openai.com/traces\n",
        "\n",
        "And then check your email!!"
      ]
    },
    {
      "cell_type": "markdown",
      "metadata": {},
      "source": [
        "<table style=\"margin: 0; text-align: left; width:100%\">\n",
        "    <tr>\n",
        "        <td style=\"width: 150px; height: 150px; vertical-align: middle;\">\n",
        "            <img src=\"../assets/exercise.png\" width=\"150\" height=\"150\" style=\"display: block;\" />\n",
        "        </td>\n",
        "        <td>\n",
        "            <h2 style=\"color:#ff7800;\">Exercise</h2>\n",
        "            <span style=\"color:#ff7800;\">Can you identify the Agentic design patterns that were used here?<br/>\n",
        "            What is the 1 line that changed this from being an Agentic \"workflow\" to \"agent\" under Anthropic's definition?<br/>\n",
        "            Try adding in more tools and Agents! You could have tools that handle the mail merge to send to a list.<br/><br/>\n",
        "            HARD CHALLENGE: research how you can have SendGrid call a Callback webhook when a user replies to an email,\n",
        "            Then have the SDR respond to keep the conversation going! This may require some \"vibe coding\" 😂\n",
        "            </span>\n",
        "        </td>\n",
        "    </tr>\n",
        "</table>"
      ]
    },
    {
      "cell_type": "markdown",
      "metadata": {},
      "source": [
        "<table style=\"margin: 0; text-align: left; width:100%\">\n",
        "    <tr>\n",
        "        <td style=\"width: 150px; height: 150px; vertical-align: middle;\">\n",
        "            <img src=\"../assets/business.png\" width=\"150\" height=\"150\" style=\"display: block;\" />\n",
        "        </td>\n",
        "        <td>\n",
        "            <h2 style=\"color:#00bfff;\">Commercial implications</h2>\n",
        "            <span style=\"color:#00bfff;\">This is immediately applicable to Sales Automation; but more generally this could be applied to  end-to-end automation of any business process through conversations and tools. Think of ways you could apply an Agent solution\n",
        "            like this in your day job.\n",
        "            </span>\n",
        "        </td>\n",
        "    </tr>\n",
        "</table>"
      ]
    },
    {
      "cell_type": "markdown",
      "metadata": {},
      "source": [
        "## Extra note:\n",
        "\n",
        "Google has released their Agent Development Kit (ADK). It's not yet got the traction of the other frameworks on this course, but it's getting some attention. It's interesting to note that it looks quite similar to OpenAI Agents SDK. To give you a preview, here's a peak at sample code from ADK:\n",
        "\n",
        "```\n",
        "root_agent = Agent(\n",
        "    name=\"weather_time_agent\",\n",
        "    model=\"gemini-2.0-flash\",\n",
        "    description=\"Agent to answer questions about the time and weather in a city.\",\n",
        "    instruction=\"You are a helpful agent who can answer user questions about the time and weather in a city.\",\n",
        "    tools=[get_weather, get_current_time]\n",
        ")\n",
        "```\n",
        "\n",
        "Well, that looks familiar!\n",
        "\n",
        "And a student has contributed a customer care agent in community_contributions that uses ADK."
      ]
    },
    {
      "cell_type": "markdown",
      "metadata": {},
      "source": []
    }
  ],
  "metadata": {
    "kernelspec": {
      "display_name": ".venv",
      "language": "python",
      "name": "python3"
    },
    "language_info": {
      "codemirror_mode": {
        "name": "ipython",
        "version": 3
      },
      "file_extension": ".py",
      "mimetype": "text/x-python",
      "name": "python",
      "nbconvert_exporter": "python",
      "pygments_lexer": "ipython3",
      "version": "3.12.11"
    }
  },
  "nbformat": 4,
  "nbformat_minor": 2
}
